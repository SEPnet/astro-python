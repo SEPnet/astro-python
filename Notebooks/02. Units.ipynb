{
 "cells": [
  {
   "cell_type": "markdown",
   "metadata": {},
   "source": [
    "# Units\n",
    "\n",
    "If you're reading this, you probably don't need me to tell you how important units are. But to drive home the point, getting your units wrong can lead to some [pretty catastrophic, and expensive, failures](https://en.wikipedia.org/wiki/Mars_Climate_Orbiter#Cause_of_failure). **Astropy** provides units and constants that attach to quantities and arrays to make working with units easier.\n",
    "\n",
    "Below we demonstrate by example how astropy units and constants can be used together to make calculations with astrophysical quantities easier. We estimate the mass of the galaxy given the Sun's velocity and orbital distance around the galactic centre.\n",
    "\n",
    "First we need to load our typical libraries, as well as the units and constants libraries from Astropy."
   ]
  },
  {
   "cell_type": "code",
   "execution_count": 3,
   "metadata": {
    "collapsed": true
   },
   "outputs": [],
   "source": [
    "import numpy as np\n",
    "import matplotlib.pyplot as plt\n",
    "%matplotlib inline  "
   ]
  },
  {
   "cell_type": "code",
   "execution_count": 4,
   "metadata": {
    "collapsed": true
   },
   "outputs": [],
   "source": [
    "from astropy import units as u\n",
    "from astropy import constants as c"
   ]
  },
  {
   "cell_type": "markdown",
   "metadata": {},
   "source": [
    "Our sun is approximately in a circular Keplerian orbit about the galactic centre in the galactic plane, with radius 8.5 kpc, and circumgalactic speed ~ 220 km/s. If we assume that the galaxies mass is concentrated at the centre, we can write the relationship between its mass, $M_{G}$, orbital radius $R_{\\odot}$, and radial velocity $v_{\\odot}$ as\n",
    "\n",
    "$$v_{\\odot}^{2} / R_{\\odot} = G M_{G} / R_{\\odot}^{2}$$\n",
    "\n",
    "where $G$ is the gravitational constant.\n",
    "\n",
    "We can write the radius in terms of kiloparsecs using the `kpc` unit"
   ]
  },
  {
   "cell_type": "code",
   "execution_count": 178,
   "metadata": {
    "collapsed": false
   },
   "outputs": [],
   "source": [
    "R = 8.5 * u.kpc"
   ]
  },
  {
   "cell_type": "markdown",
   "metadata": {},
   "source": [
    "We could also initialise this more verbosely using the `Quantity` object initialiser."
   ]
  },
  {
   "cell_type": "code",
   "execution_count": 179,
   "metadata": {
    "collapsed": true
   },
   "outputs": [],
   "source": [
    "R = u.Quantity(8.5,unit=u.kpc)"
   ]
  },
  {
   "cell_type": "markdown",
   "metadata": {},
   "source": [
    "This variable contains the value and the unit, but both can be returned individually using the `value` and `unit` functions respectively. "
   ]
  },
  {
   "cell_type": "code",
   "execution_count": 180,
   "metadata": {
    "collapsed": false
   },
   "outputs": [
    {
     "data": {
      "text/latex": [
       "$8.5 \\; \\mathrm{kpc}$"
      ],
      "text/plain": [
       "<Quantity 8.5 kpc>"
      ]
     },
     "execution_count": 180,
     "metadata": {},
     "output_type": "execute_result"
    }
   ],
   "source": [
    "R"
   ]
  },
  {
   "cell_type": "code",
   "execution_count": 141,
   "metadata": {
    "collapsed": false
   },
   "outputs": [
    {
     "data": {
      "text/plain": [
       "8.5"
      ]
     },
     "execution_count": 141,
     "metadata": {},
     "output_type": "execute_result"
    }
   ],
   "source": [
    "R.value"
   ]
  },
  {
   "cell_type": "code",
   "execution_count": 143,
   "metadata": {
    "collapsed": false
   },
   "outputs": [
    {
     "data": {
      "text/latex": [
       "$\\mathrm{kpc}$"
      ],
      "text/plain": [
       "Unit(\"kpc\")"
      ]
     },
     "execution_count": 143,
     "metadata": {},
     "output_type": "execute_result"
    }
   ],
   "source": [
    "R.unit"
   ]
  },
  {
   "cell_type": "markdown",
   "metadata": {},
   "source": [
    "Compatible units can be checked for equivalency. For example, we could specify the distance in terms of parsecs, rather than kiloparsecs. Both definitions are equivalent, as they should be. "
   ]
  },
  {
   "cell_type": "code",
   "execution_count": 146,
   "metadata": {
    "collapsed": false
   },
   "outputs": [],
   "source": [
    "R2 = 8500 * u.pc"
   ]
  },
  {
   "cell_type": "code",
   "execution_count": 148,
   "metadata": {
    "collapsed": false
   },
   "outputs": [
    {
     "data": {
      "text/plain": [
       "array(True, dtype=bool)"
      ]
     },
     "execution_count": 148,
     "metadata": {},
     "output_type": "execute_result"
    }
   ],
   "source": [
    "R == R2"
   ]
  },
  {
   "cell_type": "markdown",
   "metadata": {},
   "source": [
    "We can convert between different units using the `to` function. In the equation above, the radius must be supplied in astronomical units (AU), so we provide this as the first argument."
   ]
  },
  {
   "cell_type": "code",
   "execution_count": 181,
   "metadata": {
    "collapsed": false
   },
   "outputs": [
    {
     "data": {
      "text/latex": [
       "$1.7532509 \\times 10^{9} \\; \\mathrm{AU}$"
      ],
      "text/plain": [
       "<Quantity 1753250853.086583 AU>"
      ]
     },
     "execution_count": 181,
     "metadata": {},
     "output_type": "execute_result"
    }
   ],
   "source": [
    "R = R.to(u.AU)\n",
    "R"
   ]
  },
  {
   "cell_type": "markdown",
   "metadata": {},
   "source": [
    "Common astrophysical constants are available from the constants library. Each one is supplied with its relevant units. In our equation, we require the gravitational constant $G$."
   ]
  },
  {
   "cell_type": "code",
   "execution_count": 182,
   "metadata": {
    "collapsed": false
   },
   "outputs": [
    {
     "data": {
      "text/latex": [
       "$6.67384 \\times 10^{-11} \\; \\mathrm{\\frac{m^{3}}{kg\\,s^{2}}}$"
      ],
      "text/plain": [
       "<Constant name=u'Gravitational constant' value=6.67384e-11 uncertainty=8e-15 unit='m3 / (kg s2)' reference=u'CODATA 2010'>"
      ]
     },
     "execution_count": 182,
     "metadata": {},
     "output_type": "execute_result"
    }
   ],
   "source": [
    "c.G"
   ]
  },
  {
   "cell_type": "markdown",
   "metadata": {},
   "source": [
    "Units can be combined. We are given the velocity in km/s, which can be written easily as so. "
   ]
  },
  {
   "cell_type": "code",
   "execution_count": 183,
   "metadata": {
    "collapsed": false
   },
   "outputs": [
    {
     "data": {
      "text/latex": [
       "$220 \\; \\mathrm{\\frac{km}{s}}$"
      ],
      "text/plain": [
       "<Quantity 220.0 km / s>"
      ]
     },
     "execution_count": 183,
     "metadata": {},
     "output_type": "execute_result"
    }
   ],
   "source": [
    "v = 220 * u.km / u.s\n",
    "v"
   ]
  },
  {
   "cell_type": "markdown",
   "metadata": {},
   "source": [
    "We now have all of the variables necessary to calculate the mass of the galaxy within the sun's orbit. All of the units are retained throughout the calculation."
   ]
  },
  {
   "cell_type": "code",
   "execution_count": 184,
   "metadata": {
    "collapsed": false
   },
   "outputs": [
    {
     "data": {
      "text/latex": [
       "$1.271492 \\times 10^{24} \\; \\mathrm{\\frac{km^{2}\\,AU\\,kg}{m^{3}}}$"
      ],
      "text/plain": [
       "<Quantity 1.2714919939553631e+24 AU kg km2 / m3>"
      ]
     },
     "execution_count": 184,
     "metadata": {},
     "output_type": "execute_result"
    }
   ],
   "source": [
    "Mg = v**2 * R / c.G\n",
    "Mg"
   ]
  },
  {
   "cell_type": "markdown",
   "metadata": {},
   "source": [
    "The units look a bit unwieldy in their current form. To simplify them, we use the `decompose` function. This returns the mass in SI units, kg."
   ]
  },
  {
   "cell_type": "code",
   "execution_count": 185,
   "metadata": {
    "collapsed": false
   },
   "outputs": [
    {
     "data": {
      "text/latex": [
       "$1.9021249 \\times 10^{41} \\; \\mathrm{kg}$"
      ],
      "text/plain": [
       "<Quantity 1.9021249490781958e+41 kg>"
      ]
     },
     "execution_count": 185,
     "metadata": {},
     "output_type": "execute_result"
    }
   ],
   "source": [
    "Mg.decompose()"
   ]
  },
  {
   "cell_type": "markdown",
   "metadata": {},
   "source": [
    "We can also decompose to a different unit system by specifying it as the first argument to `decompose`."
   ]
  },
  {
   "cell_type": "code",
   "execution_count": 187,
   "metadata": {
    "collapsed": false
   },
   "outputs": [
    {
     "data": {
      "text/latex": [
       "$1.9021249 \\times 10^{44} \\; \\mathrm{g}$"
      ],
      "text/plain": [
       "<Quantity 1.902124949078196e+44 g>"
      ]
     },
     "execution_count": 187,
     "metadata": {},
     "output_type": "execute_result"
    }
   ],
   "source": [
    "Mg.decompose(u.cgs.bases)"
   ]
  },
  {
   "cell_type": "markdown",
   "metadata": {},
   "source": [
    "If the average star is of similar mass to the Sun, then we can estimate the total number of stars in the galaxy. to convert this mass to solar masses, use `to`."
   ]
  },
  {
   "cell_type": "code",
   "execution_count": 190,
   "metadata": {
    "collapsed": false
   },
   "outputs": [
    {
     "data": {
      "text/latex": [
       "$9.5627417 \\times 10^{10} \\; \\mathrm{M_{\\odot}}$"
      ],
      "text/plain": [
       "<Quantity 95627416875.88338 solMass>"
      ]
     },
     "execution_count": 190,
     "metadata": {},
     "output_type": "execute_result"
    }
   ],
   "source": [
    "Mg.to(u.Msun)"
   ]
  },
  {
   "cell_type": "markdown",
   "metadata": {},
   "source": [
    "We could alternatively divide by the solar mass to return a dimensionless quantity. "
   ]
  },
  {
   "cell_type": "code",
   "execution_count": 191,
   "metadata": {
    "collapsed": false
   },
   "outputs": [
    {
     "data": {
      "text/latex": [
       "$6.392298 \\times 10^{-7} \\; \\mathrm{\\frac{km^{2}\\,AU}{m^{3}}}$"
      ],
      "text/plain": [
       "<Quantity 6.392297993843262e-07 AU km2 / m3>"
      ]
     },
     "execution_count": 191,
     "metadata": {},
     "output_type": "execute_result"
    }
   ],
   "source": [
    "Mg / c.M_sun"
   ]
  },
  {
   "cell_type": "code",
   "execution_count": 192,
   "metadata": {
    "collapsed": false
   },
   "outputs": [
    {
     "data": {
      "text/latex": [
       "$9.5627417 \\times 10^{10} \\; \\mathrm{}$"
      ],
      "text/plain": [
       "<Quantity 95627416875.88338>"
      ]
     },
     "execution_count": 192,
     "metadata": {},
     "output_type": "execute_result"
    }
   ],
   "source": [
    "(Mg / c.M_sun).decompose()"
   ]
  },
  {
   "cell_type": "markdown",
   "metadata": {},
   "source": [
    "#### Functions\n",
    "Units can also be used in functions. To ensure that the correct units are used in a given function a decorator can be specified that ensures that the correct units are supplied to the arguments. In the function below, the velocity is returned for a given galaxy mass and radius. We require that the galaxy mass is in kilograms, and the radius in AU."
   ]
  },
  {
   "cell_type": "code",
   "execution_count": 166,
   "metadata": {
    "collapsed": false
   },
   "outputs": [
    {
     "data": {
      "text/latex": [
       "$4119644.2 \\; \\mathrm{\\frac{km}{s}}$"
      ],
      "text/plain": [
       "<Quantity 4119644.19068906 km / s>"
      ]
     },
     "execution_count": 166,
     "metadata": {},
     "output_type": "execute_result"
    }
   ],
   "source": [
    "@u.quantity_input(mg=u.kg,r=u.AU)\n",
    "def velocity(mg,r):\n",
    "    return (c.G * mg / r)**0.5\n",
    "    \n",
    "velocity(Mg,5*u.AU)"
   ]
  },
  {
   "cell_type": "markdown",
   "metadata": {},
   "source": [
    "If the units supplied are not convertable the function will return an error."
   ]
  },
  {
   "cell_type": "code",
   "execution_count": 169,
   "metadata": {
    "collapsed": false
   },
   "outputs": [
    {
     "ename": "UnitsError",
     "evalue": "Argument 'r' to function 'velocity' must be in units convertable to 'AU'.",
     "output_type": "error",
     "traceback": [
      "\u001b[1;31m---------------------------------------------------------------------------\u001b[0m",
      "\u001b[1;31mUnitsError\u001b[0m                                Traceback (most recent call last)",
      "\u001b[1;32m<ipython-input-169-8d08f5cb07ac>\u001b[0m in \u001b[0;36m<module>\u001b[1;34m()\u001b[0m\n\u001b[1;32m----> 1\u001b[1;33m \u001b[0mvelocity\u001b[0m\u001b[1;33m(\u001b[0m\u001b[0mMg\u001b[0m\u001b[1;33m,\u001b[0m\u001b[1;36m5\u001b[0m\u001b[1;33m*\u001b[0m\u001b[0mu\u001b[0m\u001b[1;33m.\u001b[0m\u001b[0mkg\u001b[0m\u001b[1;33m)\u001b[0m\u001b[1;33m\u001b[0m\u001b[0m\n\u001b[0m",
      "\u001b[1;32m/home/chris/anaconda/lib/python2.7/site-packages/astropy/utils/decorators.py\u001b[0m in \u001b[0;36mvelocity\u001b[1;34m(mg, r)\u001b[0m\n\u001b[0;32m    520\u001b[0m \u001b[1;33m\u001b[0m\u001b[0m\n\u001b[0;32m    521\u001b[0m         func = make_function_with_signature(func, name=name,\n\u001b[1;32m--> 522\u001b[1;33m                                             **_get_function_args(wrapped))\n\u001b[0m\u001b[0;32m    523\u001b[0m         func = functools.update_wrapper(func, wrapped, assigned=assigned,\n\u001b[0;32m    524\u001b[0m                                         updated=updated)\n",
      "\u001b[1;32m/home/chris/anaconda/lib/python2.7/site-packages/astropy/units/decorators.pyc\u001b[0m in \u001b[0;36mwrapper\u001b[1;34m(*func_args, **func_kwargs)\u001b[0m\n\u001b[0;32m    114\u001b[0m                                              \" '{2}'.\".format(param.name,\n\u001b[0;32m    115\u001b[0m                                                      \u001b[0mwrapped_function\u001b[0m\u001b[1;33m.\u001b[0m\u001b[0m__name__\u001b[0m\u001b[1;33m,\u001b[0m\u001b[1;33m\u001b[0m\u001b[0m\n\u001b[1;32m--> 116\u001b[1;33m                                                      target_unit.to_string()))\n\u001b[0m\u001b[0;32m    117\u001b[0m \u001b[1;33m\u001b[0m\u001b[0m\n\u001b[0;32m    118\u001b[0m                     \u001b[1;31m# Either there is no .unit or no .is_equivalent\u001b[0m\u001b[1;33m\u001b[0m\u001b[1;33m\u001b[0m\u001b[0m\n",
      "\u001b[1;31mUnitsError\u001b[0m: Argument 'r' to function 'velocity' must be in units convertable to 'AU'."
     ]
    }
   ],
   "source": [
    "velocity(Mg,5*u.kg)"
   ]
  },
  {
   "cell_type": "markdown",
   "metadata": {},
   "source": [
    "Units can also be provided to numpy arrays. Here, we calculate the velocity for an array of values and plot the velocity profile. The array of velocoty values is given the correct units of km/s."
   ]
  },
  {
   "cell_type": "code",
   "execution_count": 176,
   "metadata": {
    "collapsed": false
   },
   "outputs": [
    {
     "data": {
      "image/png": "[encoded data removed]",
      "text/plain": [
       "<matplotlib.figure.Figure at 0x7f2cfcaa6090>"
      ]
     },
     "metadata": {},
     "output_type": "display_data"
    },
    {
     "data": {
      "text/latex": [
       "$[9211804.5,~6513729.4,~5318437.8,~4605902.2,~4119644.2,~3760703.4,~3481734.8,~3256864.7,~3070601.5,~2913028.3,~2777463.5,~2659218.9,~2554894.9,~2461958.3,~2378477.7,~2302951.1,~2234190.8,~2171243.1,~2113332.9,~2059822.1,~2010180.5,~1963963.3,~1920794,~1880351.7,~1842360.9,~1806583.5,~1772812.6,~1740867.4,~1710589.1,~1681837.7,~1654488.9,~1628432.3,~1603569.3,~1579811.4,~1557079.1,~1535300.7,~1514411.3,~1494352,~1475069.2,~1456514.2,~1438642.2,~1421412.3,~1404787,~1388731.8,~1373214.7,~1358206.5,~1343679.8,~1329609.4,~1315972.1,~1302745.9,~1289910.6,~1277447.4,~1265338.7,~1253567.8,~1242119.5,~1230979.1,~1220133.3,~1209569.2,~1199274.8,~1189238.8,~1179450.7,~1169900.3,~1160578.3,~1151475.6,~1142583.7,~1133894.7,~1125401,~1117095.4,~1108970.9,~1101021.2,~1093240.1,~1085621.6,~1078160.2,~1070850.5,~1063687.6,~1056666.4,~1049782.5,~1043031.5,~1036409,~1029911,~1023533.8,~1017273.6,~1011126.9,~1005090.3,~999160.48,~993334.42,~987609.1,~981981.65,~976449.32,~971009.45,~965659.49,~960397,~955219.62,~950125.08,~945111.2,~940175.86,~935317.03,~930532.77,~925821.18] \\; \\mathrm{\\frac{km}{s}}$"
      ],
      "text/plain": [
       "<Quantity [ 9211804.45349284, 6513729.39602923, 5318437.78094629,\n",
       "            4605902.22674642, 4119644.19068906, 3760703.42022585,\n",
       "            3481734.81572848, 3256864.69801461, 3070601.48449762,\n",
       "            2913028.343312  , 2777463.54676006, 2659218.89047314,\n",
       "            2554894.86897046, 2461958.2984949 , 2378477.68245981,\n",
       "            2302951.11337321, 2234190.75084036, 2171243.13200974,\n",
       "            2113332.87897017, 2059822.09534453, 2010180.53310773,\n",
       "            1963963.30841248, 1920794.00802841, 1880351.71011293,\n",
       "            1842360.89069857, 1806583.48706773, 1772812.59364876,\n",
       "            1740867.40786424, 1710589.14321223, 1681837.69816819,\n",
       "            1654488.92108117, 1628432.34900731, 1603569.32638629,\n",
       "            1579811.43038348, 1557079.14551932, 1535300.74224881,\n",
       "            1514411.3234092 , 1494352.0096243 , 1475069.24035129,\n",
       "            1456514.171656  , 1438642.15528419, 1421412.28636966,\n",
       "            1404787.00934118, 1388731.77338003, 1373214.73022969,\n",
       "            1358206.46833938, 1343679.778289  , 1329609.44523657,\n",
       "            1315972.06478469, 1302745.87920585, 1289910.63141866,\n",
       "            1277447.43448523, 1265338.65471682, 1253567.80674195,\n",
       "            1242119.45911663, 1230979.14924745, 1220133.30656071,\n",
       "            1209569.18298945, 1199274.78996854, 1189238.8412299 ,\n",
       "            1179450.70077718, 1169900.33549451, 1160578.27190949,\n",
       "            1151475.55668661, 1142583.72047667, 1133894.74479049,\n",
       "            1125401.03160216, 1117095.37542018, 1108970.93759302,\n",
       "            1101021.22264086, 1093240.05642738, 1085621.56600487,\n",
       "            1078160.16098323, 1070850.51628834, 1063687.55618926,\n",
       "            1056666.43948508, 1049782.5457535 , 1043031.46257209,\n",
       "            1036408.97363213, 1029911.04767226, 1023533.82816587,\n",
       "            1017273.62370228, 1011126.89900738, 1005090.26655386,\n",
       "             999160.47871607,  993334.42042792,  987609.10230643,\n",
       "             981981.65420624,  976449.31917356,  971009.44777067,\n",
       "             965659.4927444 ,  960397.00401421,  955219.62395747,\n",
       "             950125.08297139,  945111.19529253,  940175.85505646,\n",
       "             935317.03258148,  930532.77086132,  925821.18225335] km / s>"
      ]
     },
     "execution_count": 176,
     "metadata": {},
     "output_type": "execute_result"
    }
   ],
   "source": [
    "r = np.arange(1,100)\n",
    "r = r * u.AU\n",
    "\n",
    "v = velocity(Mg,r)\n",
    "\n",
    "plt.plot(r,v)\n",
    "plt.show()\n",
    "\n",
    "v"
   ]
  },
  {
   "cell_type": "markdown",
   "metadata": {},
   "source": [
    "#### Alternative unit systems\n",
    "Other unit systems are available. For example, if we wish, we can import the imperial system of units and calculate the volume of the sun in terms of teaspoons. "
   ]
  },
  {
   "cell_type": "code",
   "execution_count": 177,
   "metadata": {
    "collapsed": false
   },
   "outputs": [
    {
     "data": {
      "text/latex": [
       "$2.1443929 \\times 10^{32} \\; \\mathrm{tsp}$"
      ],
      "text/plain": [
       "<Quantity 2.144392856040122e+32 tsp>"
      ]
     },
     "execution_count": 177,
     "metadata": {},
     "output_type": "execute_result"
    }
   ],
   "source": [
    "from astropy.units import imperial\n",
    "imperial.tsp\n",
    "\n",
    "\n",
    "V = 4/3 * np.pi * c.R_sun**3\n",
    "V.to(imperial.tsp)"
   ]
  },
  {
   "cell_type": "markdown",
   "metadata": {
    "collapsed": true
   },
   "source": [
    "#### Equivalencies\n",
    "\n",
    "Certain units are equivalent in a given context. For example, the frequency and wavelength of light are related by the speed of light, so we should be able to convert between them. However, doing this directly using the `to` function fails."
   ]
  },
  {
   "cell_type": "code",
   "execution_count": 195,
   "metadata": {
    "collapsed": false
   },
   "outputs": [
    {
     "ename": "UnitConversionError",
     "evalue": "'nm' (length) and 'GHz' (frequency) are not convertible",
     "output_type": "error",
     "traceback": [
      "\u001b[1;31m---------------------------------------------------------------------------\u001b[0m",
      "\u001b[1;31mUnitConversionError\u001b[0m                       Traceback (most recent call last)",
      "\u001b[1;32m<ipython-input-195-e4fbcb033257>\u001b[0m in \u001b[0;36m<module>\u001b[1;34m()\u001b[0m\n\u001b[1;32m----> 1\u001b[1;33m \u001b[1;33m(\u001b[0m\u001b[1;36m450.\u001b[0m \u001b[1;33m*\u001b[0m \u001b[0mu\u001b[0m\u001b[1;33m.\u001b[0m\u001b[0mnm\u001b[0m\u001b[1;33m)\u001b[0m\u001b[1;33m.\u001b[0m\u001b[0mto\u001b[0m\u001b[1;33m(\u001b[0m\u001b[0mu\u001b[0m\u001b[1;33m.\u001b[0m\u001b[0mGHz\u001b[0m\u001b[1;33m)\u001b[0m\u001b[1;33m\u001b[0m\u001b[0m\n\u001b[0m",
      "\u001b[1;32m/home/chris/anaconda/lib/python2.7/site-packages/astropy/units/quantity.pyc\u001b[0m in \u001b[0;36mto\u001b[1;34m(self, unit, equivalencies)\u001b[0m\n\u001b[0;32m    603\u001b[0m         \u001b[0munit\u001b[0m \u001b[1;33m=\u001b[0m \u001b[0mUnit\u001b[0m\u001b[1;33m(\u001b[0m\u001b[0munit\u001b[0m\u001b[1;33m)\u001b[0m\u001b[1;33m\u001b[0m\u001b[0m\n\u001b[0;32m    604\u001b[0m         new_val = np.asarray(\n\u001b[1;32m--> 605\u001b[1;33m             self.unit.to(unit, self.value, equivalencies=equivalencies))\n\u001b[0m\u001b[0;32m    606\u001b[0m         \u001b[1;32mreturn\u001b[0m \u001b[0mself\u001b[0m\u001b[1;33m.\u001b[0m\u001b[0m_new_view\u001b[0m\u001b[1;33m(\u001b[0m\u001b[0mnew_val\u001b[0m\u001b[1;33m,\u001b[0m \u001b[0munit\u001b[0m\u001b[1;33m)\u001b[0m\u001b[1;33m\u001b[0m\u001b[0m\n\u001b[0;32m    607\u001b[0m \u001b[1;33m\u001b[0m\u001b[0m\n",
      "\u001b[1;32m/home/chris/anaconda/lib/python2.7/site-packages/astropy/units/core.pyc\u001b[0m in \u001b[0;36mto\u001b[1;34m(self, other, value, equivalencies)\u001b[0m\n\u001b[0;32m    950\u001b[0m             \u001b[0mIf\u001b[0m \u001b[0munits\u001b[0m \u001b[0mare\u001b[0m \u001b[0minconsistent\u001b[0m\u001b[1;33m\u001b[0m\u001b[0m\n\u001b[0;32m    951\u001b[0m         \"\"\"\n\u001b[1;32m--> 952\u001b[1;33m         \u001b[1;32mreturn\u001b[0m \u001b[0mself\u001b[0m\u001b[1;33m.\u001b[0m\u001b[0m_get_converter\u001b[0m\u001b[1;33m(\u001b[0m\u001b[0mother\u001b[0m\u001b[1;33m,\u001b[0m \u001b[0mequivalencies\u001b[0m\u001b[1;33m=\u001b[0m\u001b[0mequivalencies\u001b[0m\u001b[1;33m)\u001b[0m\u001b[1;33m(\u001b[0m\u001b[0mvalue\u001b[0m\u001b[1;33m)\u001b[0m\u001b[1;33m\u001b[0m\u001b[0m\n\u001b[0m\u001b[0;32m    953\u001b[0m \u001b[1;33m\u001b[0m\u001b[0m\n\u001b[0;32m    954\u001b[0m     \u001b[1;32mdef\u001b[0m \u001b[0min_units\u001b[0m\u001b[1;33m(\u001b[0m\u001b[0mself\u001b[0m\u001b[1;33m,\u001b[0m \u001b[0mother\u001b[0m\u001b[1;33m,\u001b[0m \u001b[0mvalue\u001b[0m\u001b[1;33m=\u001b[0m\u001b[1;36m1.0\u001b[0m\u001b[1;33m,\u001b[0m \u001b[0mequivalencies\u001b[0m\u001b[1;33m=\u001b[0m\u001b[1;33m[\u001b[0m\u001b[1;33m]\u001b[0m\u001b[1;33m)\u001b[0m\u001b[1;33m:\u001b[0m\u001b[1;33m\u001b[0m\u001b[0m\n",
      "\u001b[1;32m/home/chris/anaconda/lib/python2.7/site-packages/astropy/units/core.pyc\u001b[0m in \u001b[0;36m_get_converter\u001b[1;34m(self, other, equivalencies)\u001b[0m\n\u001b[0;32m    854\u001b[0m         \u001b[1;32mexcept\u001b[0m \u001b[0mUnitsError\u001b[0m\u001b[1;33m:\u001b[0m\u001b[1;33m\u001b[0m\u001b[0m\n\u001b[0;32m    855\u001b[0m             return self._apply_equivalencies(\n\u001b[1;32m--> 856\u001b[1;33m                 self, other, self._normalize_equivalencies(equivalencies))\n\u001b[0m\u001b[0;32m    857\u001b[0m         \u001b[1;32mreturn\u001b[0m \u001b[1;32mlambda\u001b[0m \u001b[0mval\u001b[0m\u001b[1;33m:\u001b[0m \u001b[0mscale\u001b[0m \u001b[1;33m*\u001b[0m \u001b[0m_condition_arg\u001b[0m\u001b[1;33m(\u001b[0m\u001b[0mval\u001b[0m\u001b[1;33m)\u001b[0m\u001b[1;33m\u001b[0m\u001b[0m\n\u001b[0;32m    858\u001b[0m \u001b[1;33m\u001b[0m\u001b[0m\n",
      "\u001b[1;32m/home/chris/anaconda/lib/python2.7/site-packages/astropy/units/core.pyc\u001b[0m in \u001b[0;36m_apply_equivalencies\u001b[1;34m(self, unit, other, equivalencies)\u001b[0m\n\u001b[0;32m    845\u001b[0m         raise UnitConversionError(\n\u001b[0;32m    846\u001b[0m             \"{0} and {1} are not convertible\".format(\n\u001b[1;32m--> 847\u001b[1;33m                 unit_str, other_str))\n\u001b[0m\u001b[0;32m    848\u001b[0m \u001b[1;33m\u001b[0m\u001b[0m\n\u001b[0;32m    849\u001b[0m     \u001b[1;32mdef\u001b[0m \u001b[0m_get_converter\u001b[0m\u001b[1;33m(\u001b[0m\u001b[0mself\u001b[0m\u001b[1;33m,\u001b[0m \u001b[0mother\u001b[0m\u001b[1;33m,\u001b[0m \u001b[0mequivalencies\u001b[0m\u001b[1;33m=\u001b[0m\u001b[1;33m[\u001b[0m\u001b[1;33m]\u001b[0m\u001b[1;33m)\u001b[0m\u001b[1;33m:\u001b[0m\u001b[1;33m\u001b[0m\u001b[0m\n",
      "\u001b[1;31mUnitConversionError\u001b[0m: 'nm' (length) and 'GHz' (frequency) are not convertible"
     ]
    }
   ],
   "source": [
    "(450. * u.nm).to(u.GHz)"
   ]
  },
  {
   "cell_type": "markdown",
   "metadata": {},
   "source": [
    "Astropy accounts for this through equivalencies, which allows the conversion of equivalent units in certain contexts. In the light case, the equivalency is spectral, so we specify the equivalency as so."
   ]
  },
  {
   "cell_type": "code",
   "execution_count": 9,
   "metadata": {
    "collapsed": false
   },
   "outputs": [
    {
     "data": {
      "text/latex": [
       "$666205.46 \\; \\mathrm{GHz}$"
      ],
      "text/plain": [
       "<Quantity 666205.4622222221 GHz>"
      ]
     },
     "execution_count": 9,
     "metadata": {},
     "output_type": "execute_result"
    }
   ],
   "source": [
    "(450. * u.nm).to(u.GHz, equivalencies=u.spectral())"
   ]
  },
  {
   "cell_type": "markdown",
   "metadata": {},
   "source": [
    "The `find_equivalent_units` function can be used to list all directly compatible units, as well as all equivalencies when the required equivalency is provided."
   ]
  },
  {
   "cell_type": "code",
   "execution_count": 10,
   "metadata": {
    "collapsed": false
   },
   "outputs": [
    {
     "data": {
      "text/plain": [
       "  Primary name | Unit definition | Aliases              \n",
       "[\n",
       "  AU           | 1.49598e+11 m   | au, astronomical_unit ,\n",
       "  Angstrom     | 1e-10 m         | AA, angstrom          ,\n",
       "  cm           | 0.01 m          | centimeter            ,\n",
       "  lyr          | 9.46073e+15 m   | lightyear             ,\n",
       "  m            | irreducible     | meter                 ,\n",
       "  micron       | 1e-06 m         |                       ,\n",
       "  pc           | 3.08568e+16 m   | parsec                ,\n",
       "  solRad       | 6.95508e+08 m   | R_sun, Rsun           ,\n",
       "]"
      ]
     },
     "execution_count": 10,
     "metadata": {},
     "output_type": "execute_result"
    }
   ],
   "source": [
    "u.nm.find_equivalent_units()"
   ]
  },
  {
   "cell_type": "code",
   "execution_count": 11,
   "metadata": {
    "collapsed": false
   },
   "outputs": [
    {
     "data": {
      "text/plain": [
       "  Primary name | Unit definition        | Aliases              \n",
       "[\n",
       "  AU           | 1.49598e+11 m          | au, astronomical_unit ,\n",
       "  Angstrom     | 1e-10 m                | AA, angstrom          ,\n",
       "  Bq           | 1 / s                  | becquerel             ,\n",
       "  Ci           | 2.7027e-11 / s         | curie                 ,\n",
       "  Hz           | 1 / s                  | Hertz, hertz          ,\n",
       "  J            | kg m2 / s2             | Joule, joule          ,\n",
       "  Ry           | 2.17987e-18 kg m2 / s2 | rydberg               ,\n",
       "  cm           | 0.01 m                 | centimeter            ,\n",
       "  eV           | 1.60218e-19 kg m2 / s2 | electronvolt          ,\n",
       "  erg          | 1e-07 kg m2 / s2       |                       ,\n",
       "  k            | 100 / m                | Kayser, kayser        ,\n",
       "  lyr          | 9.46073e+15 m          | lightyear             ,\n",
       "  m            | irreducible            | meter                 ,\n",
       "  micron       | 1e-06 m                |                       ,\n",
       "  pc           | 3.08568e+16 m          | parsec                ,\n",
       "  solRad       | 6.95508e+08 m          | R_sun, Rsun           ,\n",
       "]"
      ]
     },
     "execution_count": 11,
     "metadata": {},
     "output_type": "execute_result"
    }
   ],
   "source": [
    "u.nm.find_equivalent_units(equivalencies=u.spectral())"
   ]
  },
  {
   "cell_type": "markdown",
   "metadata": {},
   "source": [
    "You can find details for other equivalencies in the [Astropy documentation](http://docs.astropy.org/en/stable/units/equivalencies.html)"
   ]
  }
 ],
 "metadata": {
  "kernelspec": {
   "display_name": "Python 2",
   "language": "python",
   "name": "python2"
  },
  "language_info": {
   "codemirror_mode": {
    "name": "ipython",
    "version": 2
   },
   "file_extension": ".py",
   "mimetype": "text/x-python",
   "name": "python",
   "nbconvert_exporter": "python",
   "pygments_lexer": "ipython2",
   "version": "2.7.11"
  }
 },
 "nbformat": 4,
 "nbformat_minor": 0
}
