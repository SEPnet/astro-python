{
 "cells": [
  {
   "cell_type": "markdown",
   "metadata": {
    "collapsed": true
   },
   "source": [
    "# Astrostatistics"
   ]
  },
  {
   "cell_type": "code",
   "execution_count": 11,
   "metadata": {
    "collapsed": false
   },
   "outputs": [
    {
     "data": {
      "text/plain": [
       "array([-2.02401569,  1.7855143 ,  2.40629863])"
      ]
     },
     "execution_count": 11,
     "metadata": {},
     "output_type": "execute_result"
    }
   ],
   "source": [
    "import numpy as np\n",
    "from astropy.stats import bayesian_blocks\n",
    "\n",
    "t = np.random.normal(size=100)\n",
    "edges = bayesian_blocks(t, fitness='events', p0=0.01)\n",
    "\n",
    "edges"
   ]
  },
  {
   "cell_type": "code",
   "execution_count": 22,
   "metadata": {
    "collapsed": false
   },
   "outputs": [
    {
     "name": "stdout",
     "output_type": "stream",
     "text": [
      "Mean:  -0.0199334004246\n",
      "Median:  -0.0181047132242\n",
      "Standard Deviation:  0.757898183459\n"
     ]
    }
   ],
   "source": [
    "from astropy.stats import sigma_clip, sigma_clipped_stats\n",
    "\n",
    "randvar = np.random.randn(10000)\n",
    "filtered_data = sigma_clip(randvar, sigma=2, iters=5)\n",
    "\n",
    "mean, median, stddev = sigma_clipped_stats(filtered_data,sigma=3)\n",
    "print 'Mean: ', mean\n",
    "print 'Median: ', median\n",
    "print 'Standard Deviation: ', stddev"
   ]
  },
  {
   "cell_type": "code",
   "execution_count": null,
   "metadata": {
    "collapsed": true
   },
   "outputs": [],
   "source": []
  }
 ],
 "metadata": {
  "kernelspec": {
   "display_name": "Python 2",
   "language": "python",
   "name": "python2"
  },
  "language_info": {
   "codemirror_mode": {
    "name": "ipython",
    "version": 2
   },
   "file_extension": ".py",
   "mimetype": "text/x-python",
   "name": "python",
   "nbconvert_exporter": "python",
   "pygments_lexer": "ipython2",
   "version": "2.7.11"
  }
 },
 "nbformat": 4,
 "nbformat_minor": 0
}
