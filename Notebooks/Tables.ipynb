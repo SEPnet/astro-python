{
 "cells": [
  {
   "cell_type": "code",
   "execution_count": 1,
   "metadata": {
    "collapsed": false
   },
   "outputs": [
    {
     "data": {
      "text/html": [
       "&lt;Table masked=False length=3&gt;\n",
       "<table id=\"table140109887901136\">\n",
       "<thead><tr><th>name</th><th>flux</th></tr></thead>\n",
       "<thead><tr><th>string64</th><th>float64</th></tr></thead>\n",
       "<tr><td>source 1</td><td>1.2</td></tr>\n",
       "<tr><td>source 2</td><td>2.2</td></tr>\n",
       "<tr><td>source 3</td><td>3.1</td></tr>\n",
       "</table>"
      ],
      "text/plain": [
       "<Table masked=False length=3>\n",
       "  name     flux \n",
       "string64 float64\n",
       "-------- -------\n",
       "source 1     1.2\n",
       "source 2     2.2\n",
       "source 3     3.1"
      ]
     },
     "execution_count": 1,
     "metadata": {},
     "output_type": "execute_result"
    }
   ],
   "source": [
    "from astropy.table import Table\n",
    "\n",
    "tab = Table()\n",
    "tab['name'] = ['source 1', 'source 2', 'source 3']\n",
    "tab['flux'] = [1.2, 2.2, 3.1]\n",
    "\n",
    "tab"
   ]
  },
  {
   "cell_type": "code",
   "execution_count": 2,
   "metadata": {
    "collapsed": false
   },
   "outputs": [
    {
     "data": {
      "text/html": [
       "&lt;Column name=&apos;name&apos; dtype=&apos;string64&apos; length=3&gt;\n",
       "<table>\n",
       "<tr><td>source 1</td></tr>\n",
       "<tr><td>source 2</td></tr>\n",
       "<tr><td>source 3</td></tr>\n",
       "</table>"
      ],
      "text/plain": [
       "<Column name='name' dtype='string64' length=3>\n",
       "source 1\n",
       "source 2\n",
       "source 3"
      ]
     },
     "execution_count": 2,
     "metadata": {},
     "output_type": "execute_result"
    }
   ],
   "source": [
    "tab['name']"
   ]
  },
  {
   "cell_type": "code",
   "execution_count": 3,
   "metadata": {
    "collapsed": false
   },
   "outputs": [
    {
     "ename": "NameError",
     "evalue": "name 'np' is not defined",
     "output_type": "error",
     "traceback": [
      "\u001b[1;31m---------------------------------------------------------------------------\u001b[0m",
      "\u001b[1;31mNameError\u001b[0m                                 Traceback (most recent call last)",
      "\u001b[1;32m<ipython-input-3-fd7e34556aba>\u001b[0m in \u001b[0;36m<module>\u001b[1;34m()\u001b[0m\n\u001b[1;32m----> 1\u001b[1;33m \u001b[0mnp\u001b[0m\u001b[1;33m.\u001b[0m\u001b[0marray\u001b[0m\u001b[1;33m(\u001b[0m\u001b[0mtab\u001b[0m\u001b[1;33m)\u001b[0m\u001b[1;33m\u001b[0m\u001b[0m\n\u001b[0m",
      "\u001b[1;31mNameError\u001b[0m: name 'np' is not defined"
     ]
    }
   ],
   "source": [
    "np.array(tab)"
   ]
  },
  {
   "cell_type": "code",
   "execution_count": 4,
   "metadata": {
    "collapsed": false
   },
   "outputs": [
    {
     "data": {
      "text/html": [
       "&lt;Table masked=True length=3&gt;\n",
       "<table id=\"table140109301835344\">\n",
       "<thead><tr><th>name</th><th>flux</th><th>flux2</th></tr></thead>\n",
       "<thead><tr><th>string64</th><th>float64</th><th>int64</th></tr></thead>\n",
       "<tr><td>source 1</td><td>1.2</td><td>1</td></tr>\n",
       "<tr><td>source 2</td><td>2.2</td><td>--</td></tr>\n",
       "<tr><td>source 3</td><td>3.1</td><td>9</td></tr>\n",
       "</table>"
      ],
      "text/plain": [
       "<Table masked=True length=3>\n",
       "  name     flux  flux2\n",
       "string64 float64 int64\n",
       "-------- ------- -----\n",
       "source 1     1.2     1\n",
       "source 2     2.2    --\n",
       "source 3     3.1     9"
      ]
     },
     "execution_count": 4,
     "metadata": {},
     "output_type": "execute_result"
    }
   ],
   "source": [
    "from astropy.table import join\n",
    "\n",
    "tab2 = Table()\n",
    "tab2['name'] = ['source 1', 'source 3']\n",
    "tab2['flux2'] = [1,9]\n",
    "\n",
    "tab3 = join(tab, tab2, join_type='outer')\n",
    "tab3"
   ]
  },
  {
   "cell_type": "code",
   "execution_count": 5,
   "metadata": {
    "collapsed": true
   },
   "outputs": [],
   "source": [
    "import pandas as pd"
   ]
  },
  {
   "cell_type": "code",
   "execution_count": null,
   "metadata": {
    "collapsed": true
   },
   "outputs": [],
   "source": [
    "pd.DataFrame(np.array(tab))"
   ]
  },
  {
   "cell_type": "code",
   "execution_count": null,
   "metadata": {
    "collapsed": true
   },
   "outputs": [],
   "source": [
    "tab3.write('data/test.fits', overwrite=True)"
   ]
  }
 ],
 "metadata": {
  "kernelspec": {
   "display_name": "Python 2",
   "language": "python",
   "name": "python2"
  },
  "language_info": {
   "codemirror_mode": {
    "name": "ipython",
    "version": 2
   },
   "file_extension": ".py",
   "mimetype": "text/x-python",
   "name": "python",
   "nbconvert_exporter": "python",
   "pygments_lexer": "ipython2",
   "version": "2.7.11"
  }
 },
 "nbformat": 4,
 "nbformat_minor": 0
}
