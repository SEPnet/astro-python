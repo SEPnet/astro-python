{
 "cells": [
  {
   "cell_type": "markdown",
   "metadata": {},
   "source": [
    "# Handling FITS files\n",
    "\n",
    "The FITS (Flexible Image Transport System) standard is widely used in Astronomy for storing image data. It can also be used to store other structured data such as tables.\n",
    "\n",
    "In this notebook we'll load a FITS file containing an image and accompanying data, take a look at the accompanying header information, plot the image, manipulate the data and save it back in to a new FITS file."
   ]
  },
  {
   "cell_type": "markdown",
   "metadata": {},
   "source": [
    "### Reading Data\n",
    "First we load a few useful modules for plotting and manipulating data"
   ]
  },
  {
   "cell_type": "code",
   "execution_count": 3,
   "metadata": {
    "collapsed": true
   },
   "outputs": [],
   "source": [
    "import matplotlib\n",
    "import numpy as np\n",
    "import matplotlib.pyplot as plt\n",
    "%matplotlib inline  "
   ]
  },
  {
   "cell_type": "markdown",
   "metadata": {},
   "source": [
    "We also need to import the `fits` methods from the astropy module "
   ]
  },
  {
   "cell_type": "code",
   "execution_count": 4,
   "metadata": {
    "collapsed": true
   },
   "outputs": [],
   "source": [
    "from astropy.io import fits"
   ]
  },
  {
   "cell_type": "markdown",
   "metadata": {},
   "source": [
    "Now we are ready to load some data. In the `data` folder inside the course directory there are some example FITS files. To load one of these in to Python we use the `open` function, and pass the location of the file we want as the first argument."
   ]
  },
  {
   "cell_type": "code",
   "execution_count": 5,
   "metadata": {
    "collapsed": false
   },
   "outputs": [],
   "source": [
    "eagle_OIII = fits.open('data/502nmos.fits')"
   ]
  },
  {
   "cell_type": "markdown",
   "metadata": {},
   "source": [
    "If we call this variable on its own we can see that it's made up of two HDU (Header Data Unit) objects. A HDU is a high level FITS file component, typically containing data and an associated header."
   ]
  },
  {
   "cell_type": "code",
   "execution_count": 6,
   "metadata": {
    "collapsed": false
   },
   "outputs": [
    {
     "data": {
      "text/plain": [
       "[<astropy.io.fits.hdu.image.PrimaryHDU at 0x7fe0867a3410>,\n",
       " <astropy.io.fits.hdu.table.TableHDU at 0x7fe086754d50>]"
      ]
     },
     "execution_count": 6,
     "metadata": {},
     "output_type": "execute_result"
    }
   ],
   "source": [
    "eagle_OIII"
   ]
  },
  {
   "cell_type": "markdown",
   "metadata": {},
   "source": [
    "To access each HDU, just use python's zero based indexing."
   ]
  },
  {
   "cell_type": "code",
   "execution_count": 7,
   "metadata": {
    "collapsed": false
   },
   "outputs": [
    {
     "data": {
      "text/plain": [
       "<astropy.io.fits.hdu.image.PrimaryHDU at 0x7fe0867a3410>"
      ]
     },
     "execution_count": 7,
     "metadata": {},
     "output_type": "execute_result"
    }
   ],
   "source": [
    "eagle_OIII[0]"
   ]
  },
  {
   "cell_type": "markdown",
   "metadata": {},
   "source": [
    "For more detailed information about each HDU we can call the `info` function."
   ]
  },
  {
   "cell_type": "code",
   "execution_count": 8,
   "metadata": {
    "collapsed": false
   },
   "outputs": [
    {
     "name": "stdout",
     "output_type": "stream",
     "text": [
      "Filename: data/502nmos.fits\n",
      "No.    Name         Type      Cards   Dimensions   Format\n",
      "0    PRIMARY     PrimaryHDU     290   (1600, 1600)   float32   \n",
      "1    502nmos_cvt.tab  TableHDU       353   1R x 49C     [D25.17, D25.17, E15.7, E15.7, E15.7, E15.7, E15.7, E15.7, E15.7, E15.7, A1, E15.7, I12, I12, D25.17, D25.17, A8, A8, I12, E15.7, E15.7, E15.7, E15.7, E15.7, E15.7, I12, I12, I12, I12, I12, I12, I12, I12, A48, E15.7, E15.7, E15.7, E15.7, E15.7, E15.7, E15.7, E15.7, E15.7, E15.7, E15.7, E15.7, E15.7, E15.7, E15.7]   \n"
     ]
    }
   ],
   "source": [
    "eagle_OIII.info()"
   ]
  },
  {
   "cell_type": "markdown",
   "metadata": {},
   "source": [
    "There are also 'convenience' functions that allow you to access the data or headers directly. These can be useful when doing interactive Python sessions, but are inefficient in terms of performance compared to the approach shown above using `open`. Throughout this course we will use the more verbose approach for clarity and performance."
   ]
  },
  {
   "cell_type": "markdown",
   "metadata": {},
   "source": [
    "### Headers\n",
    "Each HDU has its own header file. The header provides detailed information about the HDU. To view it, first subset by the HDU you want, then call the `header` function. Below, we display the header for both the image and the table in our chosen FITS file."
   ]
  },
  {
   "cell_type": "code",
   "execution_count": 9,
   "metadata": {
    "collapsed": false
   },
   "outputs": [
    {
     "data": {
      "text/plain": [
       "SIMPLE  =                    T / FITS STANDARD                                  \n",
       "BITPIX  =                  -32 / FITS BITS/PIXEL                                \n",
       "NAXIS   =                    2 / NUMBER OF AXES                                 \n",
       "NAXIS1  =                 1600 /                                                \n",
       "NAXIS2  =                 1600 /                                                \n",
       "EXTEND  =                    T / There maybe standard extensions                \n",
       "BSCALE  =                1.0E0 / REAL = TAPE*BSCALE + BZERO                     \n",
       "BZERO   =                0.0E0 /                                                \n",
       "OPSIZE  =                 2112 / PSIZE of original image                        \n",
       "ORIGIN  = 'STScI-STSDAS'       / Fitsio version 21-Feb-1996                     \n",
       "FITSDATE= '2005-07-01'         / Date FITS file was created                     \n",
       "FILENAME= '502nmos_cvt.hhh'    / Original filename                              \n",
       "ALLG-MAX=           0.000000E0 / Data max in all groups                         \n",
       "ALLG-MIN=           0.000000E0 / Data min in all groups                         \n",
       "ODATTYPE= 'FLOATING'           / Original datatype: Single precision real       \n",
       "SDASMGNU=                    1 / Number of groups in original image             \n",
       "CRVAL1  =      274.71130937177                                                  \n",
       "CRVAL2  =     -13.816000630104                                                  \n",
       "CRPIX1  =                386.5                                                  \n",
       "CRPIX2  =                 396.                                                  \n",
       "CD1_1   =          1.878013E-5                                                  \n",
       "CD1_2   =         -2.031193E-5                                                  \n",
       "CD2_1   =         -2.029358E-5                                                  \n",
       "CD2_2   =         -1.879711E-5                                                  \n",
       "DATAMIN =           0.000000E0 / DATA MIN                                       \n",
       "DATAMAX =           0.000000E0 / DATA MAX                                       \n",
       "MIR_REVR=                    T                                                  \n",
       "ORIENTAT=            -131.9115                                                  \n",
       "FILLCNT =                    0                                                  \n",
       "ERRCNT  =                    0                                                  \n",
       "FPKTTIME=     49808.8637043663                                                  \n",
       "LPKTTIME=     49808.8638721904                                                  \n",
       "CTYPE1  = 'RA---TAN'                                                            \n",
       "CTYPE2  = 'DEC--TAN'                                                            \n",
       "DETECTOR=                    4                                                  \n",
       "DEZERO  =             311.2883                                                  \n",
       "BIASEVEN=             311.3258                                                  \n",
       "BIASODD =             311.2509                                                  \n",
       "GOODMIN =            -1.921564                                                  \n",
       "GOODMAX =             4128.058                                                  \n",
       "DATAMEAN=             8.284751                                                  \n",
       "GPIXELS =               559916                                                  \n",
       "SOFTERRS=                    0                                                  \n",
       "CALIBDEF=                80081                                                  \n",
       "STATICD =                    0                                                  \n",
       "ATODSAT =                    5                                                  \n",
       "DATALOST=                    0                                                  \n",
       "BADPIXEL=                    0                                                  \n",
       "OVERLAP =                    0                                                  \n",
       "PHOTMODE= 'WFPC2,4,A2D7,F502N,,CAL                         '                    \n",
       "PHOTFLAM=         3.026684E-16                                                  \n",
       "PHOTZPT =                -21.1                                                  \n",
       "PHOTPLAM=              5012.91                                                  \n",
       "PHOTBW  =             48.40781                                                  \n",
       "MEDIAN  =             6.800608                                                  \n",
       "MEDSHADO=             3.649954                                                  \n",
       "HISTWIDE=             6.501746                                                  \n",
       "SKEWNESS=           0.01308636                                                  \n",
       "MEANC10 =             10.52821                                                  \n",
       "MEANC25 =             10.84973                                                  \n",
       "MEANC50 =             10.78265                                                  \n",
       "MEANC100=             10.71748                                                  \n",
       "MEANC200=             9.907546                                                  \n",
       "MEANC300=              8.59161                                                  \n",
       "BACKGRND=             3.285868                                                  \n",
       "DADSFILE= 'U2LX0507T.D0F'      /                                                \n",
       "DADSCLAS= 'CAL     '           /                                                \n",
       "DADSDATE= '02-APR-1995 15:25:12' /                                              \n",
       "                                                                                \n",
       "                 / GROUP PARAMETERS: OSS                                        \n",
       "                                                                                \n",
       "                 / GROUP PARAMETERS: PODPS                                      \n",
       "                                                                                \n",
       "                 / GROUP PARAMETERS: DATA QUALITY FILE SUMMARY                  \n",
       "                                                                                \n",
       "                 / GROUP PARAMETERS: PHOTOMETRY                                 \n",
       "                                                                                \n",
       "                 / GROUP PARAMETERS: IMAGE STATISTICS                           \n",
       "                                                                                \n",
       "                 / WFPC-II DATA DESCRIPTOR KEYWORDS                             \n",
       "INSTRUME= 'WFPC2             ' / instrument in use                              \n",
       "ROOTNAME= 'U2LX0507T         ' / rootname of the observation set                \n",
       "FILETYPE= 'SCI               ' / shp, ext, edq, sdq, sci                        \n",
       "                                                                                \n",
       "                 / SCIENCE INSTRUMENT CONFIGURATION                             \n",
       "MODE    = 'FULL              ' / instr. mode: FULL (full res.), AREA (area int.)\n",
       "SERIALS = 'ON                ' / serial clocks: ON, OFF                         \n",
       "                                                                                \n",
       "                 / IMAGE TYPE CHARACTERISTICS                                   \n",
       "IMAGETYP= 'EXT               ' / DARK/BIAS/IFLAT/UFLAT/VFLAT/KSPOT/EXT/ECAL     \n",
       "CDBSFILE= 'NO                ' / GENERIC/BIAS/DARK/FLAT/MASK/NO                 \n",
       "PKTFMT  =                  104 / packet format code                             \n",
       "DATE    = '02/04/95          ' / date file written (dd/mm/yy)                   \n",
       "                                                                                \n",
       "                 / FILTER CONFIGURATION                                         \n",
       "FILTNAM1= 'F502N             ' / first filter name                              \n",
       "FILTNAM2= '                  ' / second filter name                             \n",
       "FILTER1 =                   23 / first filter number (0-48)                     \n",
       "FILTER2 =                    0 / second filter number (0-48)                    \n",
       "FILTROT =                  0.0 / partial filter rotation angle (degrees)        \n",
       "LRFWAVE =                  0.0 / linear ramp filter wavelength                  \n",
       "                                                                                \n",
       "                 / INSTRUMENT STATUS USED IN DATA PROCESSING                    \n",
       "UCH1CJTM=      -88.34862518311 / TEC cold junction #1 temperature (Celsius)     \n",
       "UCH2CJTM=      -88.80734252930 / TEC cold junction #2 temperature (Celsius)     \n",
       "UCH3CJTM=      -88.34862518311 / TEC cold junction #3 temperature (Celsius)     \n",
       "UCH4CJTM=      -88.85844421387 / TEC cold junction #4 temperature (Celsius)     \n",
       "UBAY3TMP=       13.61565399170 / bay 3 A1 temperature (deg C)                   \n",
       "KSPOTS  = 'OFF               ' / Status of Kelsall spot lamps: ON, OFF          \n",
       "SHUTTER = 'B                 ' / Shutter in place at the beginning of the exposu\n",
       "ATODGAIN=       7.000000000000 / Analog to Digital Gain (Electrons/DN)          \n",
       "                                                                                \n",
       "                 / RSDP CONTROL KEYWORDS                                        \n",
       "MASKCORR= 'COMPLETE'           / Do mask correction: PERFORM, OMIT, COMPLETE    \n",
       "ATODCORR= 'COMPLETE'           / Do A-to-D correction: PERFORM, OMIT, COMPLETE  \n",
       "BLEVCORR= 'COMPLETE'           / Do bias level correction: PERFORM, OMIT, COMPLE\n",
       "BIASCORR= 'COMPLETE'           / Do bias correction: PERFORM, OMIT, COMPLETE    \n",
       "DARKCORR= 'COMPLETE'           / Do dark correction: PERFORM, OMIT, COMPLETE    \n",
       "FLATCORR= 'COMPLETE'           / Do flat field correction: PERFORM, OMIT, COMPLE\n",
       "SHADCORR= 'COMPLETE'           / Do shaded shutter correction: PERFORM, OMIT, CO\n",
       "DOSATMAP= 'OMIT              ' / Output saturated pixel map: PERFORM, OMIT, COMP\n",
       "DOPHOTOM= 'COMPLETE'           / Fill photometry keywords: PERFORM, OMIT, COMPLE\n",
       "DOHISTOS= 'OMIT    '           / Make histograms: PERFORM, OMIT, COMPLETE       \n",
       "OUTDTYPE= 'REAL    '           / Output image datatype: REAL, LONG, SHORT       \n",
       "                                                                                \n",
       "                 / CALIBRATION REFERENCE FILES                                  \n",
       "MASKFILE= 'uref$f8213081u.r0h' / name of the input DQF of known bad pixels      \n",
       "ATODFILE= 'uref$dbu1405iu.r1h' / name of the A-to-D conversion file             \n",
       "BLEVFILE= 'ucal$u2lx0507t.x0h' / Engineering file with extended register data   \n",
       "BLEVDFIL= 'ucal$u2lx0507t.q1h' / Engineering file DQF                           \n",
       "BIASFILE= 'uref$fcb1503du.r2h' / name of the bias frame reference file          \n",
       "BIASDFIL= 'uref$fcb1503du.b2h' / name of the bias frame reference DQF           \n",
       "DARKFILE= 'uref$f461210tu.r3h' / name of the dark reference file                \n",
       "DARKDFIL= 'uref$f461210tu.b3h' / name of the dark reference DQF                 \n",
       "FLATFILE= 'uref$g640925ku.r4h' / name of the flat field reference file          \n",
       "FLATDFIL= 'uref$g640925ku.b4h' / name of the flat field reference DQF           \n",
       "SHADFILE= 'uref$e371355iu.r5h' / name of the reference file for shutter shading \n",
       "PHOTTAB = '                  ' / name of the photometry calibration table       \n",
       "GRAPHTAB= 'mtab$m1p1255om.tmg' / the HST graph table                            \n",
       "COMPTAB = 'mtab$m4i1217km.tmc' / the HST components table                       \n",
       "                                                                                \n",
       "                 / DEFAULT KEYWORDS SET BY STSCI                                \n",
       "SATURATE=                 4095 / Data value at which saturation occurs          \n",
       "USCALE  =                  1.0 / Scale factor for output image                  \n",
       "UZERO   =                  0.0 / Zero point for output image                    \n",
       "                                                                                \n",
       "                 / READOUT DURATION INFORMATION                                 \n",
       "READTIME=                  464 / Length of time for CCD readout in clock ticks  \n",
       "                                                                                \n",
       "                 / PLANETARY SCIENCE KEYWORDS                                   \n",
       "PA_V3   =        0.9299789E+02 / position angle of v3 axis of HST               \n",
       "RA_SUN  =  0.1077934379409E+02 / right ascension of the sun (deg)               \n",
       "DEC_SUN =  0.4635995603524E+01 / declination of the sun (deg)                   \n",
       "EQNX_SUN=               2000.0 / equinox of the sun                             \n",
       "MTFLAG  =                    F / moving target flag                             \n",
       "EQRADTRG=                  0.0 / equatorial radius of target                    \n",
       "FLATNTRG=                  0.0 / flattening of target                           \n",
       "NPDECTRG=                  0.0 / north pole declination of target               \n",
       "NPRATRG =                  0.0 / north pole right ascension of target           \n",
       "ROTRTTRG=                  0.0 / rotation rate of target                        \n",
       "LONGPMER=                  0.0 / longitude of prime meridian                    \n",
       "EPLONGPM=                  0.0 / epoch of longitude of prime meridian           \n",
       "SURFLATD=                  0.0 / surface feature latitude                       \n",
       "SURFLONG=                  0.0 / surface feature longitude                      \n",
       "SURFALTD=                  0.0 / surface feature altitude                       \n",
       "                                                                                \n",
       "                 / PODPS FILL VALUES                                            \n",
       "PODPSFF =                    0 / 0=(no podps fill), 1=(podps fill present)      \n",
       "STDCFFF =                    0 / 0=(no st dcf fill), 1=(st dcf fill present)    \n",
       "STDCFFP = '0000              ' / st dcf fill pattern (hex)                      \n",
       "RSDPFILL=                 -100 / bad data fill value for calibrated images      \n",
       "                                                                                \n",
       "                 / EXPOSURE TIME AND RELATED INFORMATION                        \n",
       "UEXPODUR=                 1100 / Commanded duration of exposure (seconds)       \n",
       "NSHUTA17=                    1 / Number of AP17 shutter B closes                \n",
       "DARKTIME=       1100.000000000 / Dark time (seconds)                            \n",
       "UEXPOTIM=                48592 / Major frame pulse time preceding exposure start\n",
       "PSTRTIME= '1995.091:20:41:39 ' / Predicted obs. start time  (yyyy:ddd:hh:mm:ss) \n",
       "PSTPTIME= '1995.091:21:01:39 ' / Predicted obs. stop  time  (yyyy:ddd:hh:mm:ss) \n",
       "                                                                                \n",
       "                 / EXPOSURE INFORMATION                                         \n",
       "SUNANGLE=       96.98478698730 / angle between sun and V1 axis (deg)            \n",
       "MOONANGL=       116.8501663208 / angle between moon and V1 axis (deg)           \n",
       "SUN_ALT =       22.06604003906 / altitude of the sun above Earth's limb (deg)   \n",
       "FGSLOCK = 'FINE              ' / commanded FGS lock (FINE,COARSE,GYROS,UNKNOWN) \n",
       "                                                                                \n",
       "DATE-OBS= ' 1/04/95          ' / UT date of start of observation (dd/mm/yy)     \n",
       "TIME-OBS= '20:24:17          ' / UT time of start of observation (hh:mm:ss)     \n",
       "EXPSTART=       49808.85019742 / exposure start time (Modified Julian Date)     \n",
       "EXPEND  =       49808.86292890 / exposure end time (Modified Julian Date)       \n",
       "EXPTIME =                1100. / exposure duration (seconds)--calculated        \n",
       "EXPFLAG = 'NORMAL            ' / Exposure interruption indicator                \n",
       "                                                                                \n",
       "                 / TARGET & PROPOSAL ID                                         \n",
       "TARGNAME= 'M16-A             ' / proposer's target name                         \n",
       "RA_TARG =  0.2747039166667E+03 / right ascension of the target (deg) (J2000)    \n",
       "DEC_TARG= -0.1383091666667E+02 / declination of the target (deg) (J2000)        \n",
       "                                                                                \n",
       "PROPOSID=                05773 / PEP proposal identifier                        \n",
       "PEP_EXPO= '4.2000019#001     ' / PEP exposure identifier including sequence     \n",
       "LINENUM = '4.030             ' / PEP proposal line number                       \n",
       "SEQLINE = '4.200             ' / PEP line number of defined sequence            \n",
       "SEQNAME = 'M16SEQ            ' / PEP define/use sequence name                   \n",
       "                                                                                \n",
       "HISTORY   MASKFILE=uref$f8213081u.r0h  MASKCORR=COMPLETED                       \n",
       "HISTORY   PEDIGREE=INFLIGHT 01/01/1994 - 15/05/1995                             \n",
       "HISTORY   DESCRIP=STATIC MASK - INCLUDES CHARGE TRANSFER TRAPS                  \n",
       "HISTORY   BIASFILE=uref$fcb1503du.r2h  BIASCORR=COMPLETED                       \n",
       "HISTORY   PEDIGREE=INFLIGHT 13/01/1995 - 11/04/1995                             \n",
       "HISTORY   DESCRIP=not signif. different from f1j16* but generated from new data \n",
       "HISTORY   DARKFILE=uref$f461210tu.r3h  DARKCORR=COMPLETED                       \n",
       "HISTORY   PEDIGREE=INFLIGHT 27/03/1995 - 04/04/1995                             \n",
       "HISTORY   DESCRIP=dark,full mode,serials on,gain=7,-88C                         \n",
       "HISTORY   FLATFILE=uref$g640925ku.r4h  FLATCORR=COMPLETED                       \n",
       "HISTORY   PEDIGREE=INFLIGHT 01/05/1994 - 01/10/1994                             \n",
       "HISTORY   DESCRIP=Improved Cyc4 flat, fixed errors at CCD edges - now < 0.5% RMS\n",
       "HISTORY   SHADFILE=uref$e371355iu.r5h  SHADCORR=COMPLETED                       \n",
       "HISTORY   PEDIGREE=GROUND                                                       \n",
       "HISTORY   DESCRIP=                                                              \n",
       "HISTORY   PC1: bias jump level ~0.135 DN.                                       \n",
       "HISTORY   The following throughput tables were used:                            \n",
       "HISTORY   crotacomp$hst_ota_007_syn.fits, crwfpc2comp$wfpc2_optics_006_syn.fits,\n",
       "HISTORY   crwfpc2comp$wfpc2_f502n_005_syn.fits,                                 \n",
       "HISTORY   crwfpc2comp$wfpc2_dqepc1_005_syn.fits,                                \n",
       "HISTORY   crwfpc2comp$wfpc2_a2d7pc1_004_syn.fits,                               \n",
       "HISTORY   crwfpc2comp$wfpc2_flatpc1_003_syn.fits                                \n",
       "HISTORY   WF2: bias jump level ~0.113 DN.                                       \n",
       "HISTORY   The following throughput tables were used:                            \n",
       "HISTORY   crotacomp$hst_ota_007_syn.fits, crwfpc2comp$wfpc2_optics_006_syn.fits,\n",
       "HISTORY   crwfpc2comp$wfpc2_f502n_005_syn.fits,                                 \n",
       "HISTORY   crwfpc2comp$wfpc2_dqewfc2_005_syn.fits,                               \n",
       "HISTORY   crwfpc2comp$wfpc2_a2d7wf2_004_syn.fits,                               \n",
       "HISTORY   crwfpc2comp$wfpc2_flatwf2_003_syn.fits                                \n",
       "HISTORY   WF3: bias jump level ~0.239 DN.                                       \n",
       "HISTORY   The following throughput tables were used:                            \n",
       "HISTORY   crotacomp$hst_ota_007_syn.fits, crwfpc2comp$wfpc2_optics_006_syn.fits,\n",
       "HISTORY   crwfpc2comp$wfpc2_f502n_005_syn.fits,                                 \n",
       "HISTORY   crwfpc2comp$wfpc2_dqewfc3_005_syn.fits,                               \n",
       "HISTORY   crwfpc2comp$wfpc2_a2d7wf3_004_syn.fits,                               \n",
       "HISTORY   crwfpc2comp$wfpc2_flatwf3_003_syn.fits                                \n",
       "HISTORY   WF4: bias jump level ~0.120 DN.                                       \n",
       "HISTORY   The following throughput tables were used:                            \n",
       "HISTORY   crotacomp$hst_ota_007_syn.fits, crwfpc2comp$wfpc2_optics_006_syn.fits,\n",
       "HISTORY   crwfpc2comp$wfpc2_f502n_005_syn.fits,                                 \n",
       "HISTORY   crwfpc2comp$wfpc2_dqewfc4_005_syn.fits,                               \n",
       "HISTORY   crwfpc2comp$wfpc2_a2d7wf4_004_syn.fits,                               \n",
       "HISTORY   crwfpc2comp$wfpc2_flatwf4_003_syn.fits                                \n",
       "HISTORY   Ran task WARMPIX, version 1.1 (Sep 28, 1999) at Tue 17:21:22          \n",
       "HISTORY   30-Jul-2002, rej_thresh=0.10000, fix_thresh=0.00300,                  \n",
       "HISTORY   var_thresh=0.00300,                                                   \n",
       "HISTORY   fix_dqval=1024, rej_val=INDEF                                         \n",
       "SKYSUB1 =                 0.89 / Sky value for chip 1                           \n",
       "PYS_VERS=                  1.7 / PyStack.py: Version                            \n",
       "IRAF_I  = 'IRAF V2.11 May 1997 release:2.11.3b'                                 \n",
       "STAC_I  = '$RCSfile: imstack_imshift_imcomb.cl,v $ $Revision: 1.1 $'            \n",
       "PYS_ITER=                    5 / PyStack.py: Number of iterations               \n",
       "PYS_HEXP=                    2 / PyStack.py: Value of exponent                  \n",
       "SKYSUB2 =                 7.68 / Sky value for chip 2                           \n",
       "SKYSUB3 =                 5.37 / Sky value for chip 3                           \n",
       "SKYSUB4 =                 2.74 / Sky value for chip 4                           \n",
       "NCOMBINE=                    2 / Number of exposures for this association       \n",
       "ASTR_I  = '$RCSfile: image_type.cl,v $ $Revision: 1.1 $'                        \n",
       "XSHIFT  =         -3.967285E-4 / Y shift in degrees from USNO stars             \n",
       "YSHIFT  =          3.557205E-4 / X shift in degrees from USNO stars             \n",
       "OCRVL1  =             274.7039 / Old CRVAL1 value before USNO correction        \n",
       "OCRVL2  =            -13.83092 / Old CRVAL2 value before USNO correction        \n",
       "FR_LOWF1=            0.9954308 / Fraction of flux in low frequency for chip 1   \n",
       "FR_STAR1=          0.004569176 / Fraction of flux in stars for chip 1           \n",
       "FR_GAL1 =                   0. / Fraction of flux in stars for chip 1           \n",
       "FTOTAL1 =             195.3842 / Total flux in chip 1                           \n",
       "FR_LOWF2=            0.9223479 / Fraction of flux in low frequency for chip 2   \n",
       "FR_STAR2=            0.0249364 / Fraction of flux in stars for chip 2           \n",
       "FR_GAL2 =            0.0527157 / Fraction of flux in stars for chip 2           \n",
       "FTOTAL2 =             979.1025 / Total flux in chip 2                           \n",
       "FR_LOWF3=            0.9117381 / Fraction of flux in low frequency for chip 3   \n",
       "FR_STAR3=            0.0116048 / Fraction of flux in stars for chip 3           \n",
       "FR_GAL3 =           0.07665708 / Fraction of flux in stars for chip 3           \n",
       "FTOTAL3 =             2060.833 / Total flux in chip 3                           \n",
       "FR_LOWF4=            0.9916226 / Fraction of flux in low frequency for chip 4   \n",
       "FR_STAR4=          0.008377461 / Fraction of flux in stars for chip 4           \n",
       "FR_GAL4 =                   0. / Fraction of flux in stars for chip 4           \n",
       "FTOTAL4 =             2126.442 / Total flux in chip 4                           \n",
       "FR_LOWF =             0.948407 / Fraction of flux in low frequency for all chips\n",
       "FR_STARS=           0.01250294 / Fraction of flux in stars for all chips        \n",
       "FR_GALS =           0.03909005 / Fraction of flux in stars for all chips        \n",
       "FTOTAL  =             5361.762 / Total flux in all chips                        \n",
       "IMAG_I  = '$RCSfile$ $Revision$'                                                \n",
       "EQUINOX =                2000.                                                  \n",
       "SEXC_I  = '$RCSfile$ $Revision$'                                                \n",
       "HISTORY   Ran task WMOSAIC, version 2.1 (Jun 1995), at Fri 16:17:53 01-Jul-2005 "
      ]
     },
     "execution_count": 9,
     "metadata": {},
     "output_type": "execute_result"
    }
   ],
   "source": [
    "eagle_OIII[0].header"
   ]
  },
  {
   "cell_type": "code",
   "execution_count": 10,
   "metadata": {
    "collapsed": false
   },
   "outputs": [
    {
     "data": {
      "text/plain": [
       "XTENSION= 'TABLE   '           / Ascii table extension                          \n",
       "BITPIX  =                    8 / 8-bits per 'pixels'                            \n",
       "NAXIS   =                    2 / Simple 2-D matrix                              \n",
       "NAXIS1  =                  796 / Number of characters per row                   \n",
       "NAXIS2  =                    1 / The number of rows                             \n",
       "PCOUNT  =                    0 / No 'random' parameters                         \n",
       "GCOUNT  =                    1 / Only one group                                 \n",
       "TFIELDS =                   49 / Number of fields per row                       \n",
       "EXTNAME = '502nmos_cvt.tab'    / Name of table                                  \n",
       "                                                                                \n",
       "TTYPE1  = 'CRVAL1  '           /                                                \n",
       "TBCOL1  =                    1 /                                                \n",
       "TFORM1  = 'D25.17  '           /                                                \n",
       "TUNIT1  = '        '           /                                                \n",
       "TDISP1  = 'G25.16  '           / %25.16g                                        \n",
       "                                                                                \n",
       "TTYPE2  = 'CRVAL2  '           /                                                \n",
       "TBCOL2  =                   27 /                                                \n",
       "TFORM2  = 'D25.17  '           /                                                \n",
       "TUNIT2  = '        '           /                                                \n",
       "TDISP2  = 'G25.16  '           / %25.16g                                        \n",
       "                                                                                \n",
       "TTYPE3  = 'CRPIX1  '           /                                                \n",
       "TBCOL3  =                   53 /                                                \n",
       "TFORM3  = 'E15.7   '           /                                                \n",
       "TUNIT3  = '        '           /                                                \n",
       "TDISP3  = 'G15.7   '           / %15.7g                                         \n",
       "                                                                                \n",
       "TTYPE4  = 'CRPIX2  '           /                                                \n",
       "TBCOL4  =                   69 /                                                \n",
       "TFORM4  = 'E15.7   '           /                                                \n",
       "TUNIT4  = '        '           /                                                \n",
       "TDISP4  = 'G15.7   '           / %15.7g                                         \n",
       "                                                                                \n",
       "TTYPE5  = 'CD1_1   '           /                                                \n",
       "TBCOL5  =                   85 /                                                \n",
       "TFORM5  = 'E15.7   '           /                                                \n",
       "TUNIT5  = '        '           /                                                \n",
       "TDISP5  = 'G15.7   '           / %15.7g                                         \n",
       "                                                                                \n",
       "TTYPE6  = 'CD1_2   '           /                                                \n",
       "TBCOL6  =                  101 /                                                \n",
       "TFORM6  = 'E15.7   '           /                                                \n",
       "TUNIT6  = '        '           /                                                \n",
       "TDISP6  = 'G15.7   '           / %15.7g                                         \n",
       "                                                                                \n",
       "TTYPE7  = 'CD2_1   '           /                                                \n",
       "TBCOL7  =                  117 /                                                \n",
       "TFORM7  = 'E15.7   '           /                                                \n",
       "TUNIT7  = '        '           /                                                \n",
       "TDISP7  = 'G15.7   '           / %15.7g                                         \n",
       "                                                                                \n",
       "TTYPE8  = 'CD2_2   '           /                                                \n",
       "TBCOL8  =                  133 /                                                \n",
       "TFORM8  = 'E15.7   '           /                                                \n",
       "TUNIT8  = '        '           /                                                \n",
       "TDISP8  = 'G15.7   '           / %15.7g                                         \n",
       "                                                                                \n",
       "TTYPE9  = 'DATAMIN '           /                                                \n",
       "TBCOL9  =                  149 /                                                \n",
       "TFORM9  = 'E15.7   '           /                                                \n",
       "TUNIT9  = '        '           /                                                \n",
       "TDISP9  = 'G15.7   '           / %15.7g                                         \n",
       "                                                                                \n",
       "TTYPE10 = 'DATAMAX '           /                                                \n",
       "TBCOL10 =                  165 /                                                \n",
       "TFORM10 = 'E15.7   '           /                                                \n",
       "TUNIT10 = '        '           /                                                \n",
       "TDISP10 = 'G15.7   '           / %15.7g                                         \n",
       "                                                                                \n",
       "TTYPE11 = 'MIR_REVR'           /                                                \n",
       "TBCOL11 =                  181 /                                                \n",
       "TFORM11 = 'A1      '           /                                                \n",
       "TUNIT11 = 'LOGICAL-'           /                                                \n",
       "TDISP11 = 'L1      '           / %1b                                            \n",
       "                                                                                \n",
       "TTYPE12 = 'ORIENTAT'           /                                                \n",
       "TBCOL12 =                  183 /                                                \n",
       "TFORM12 = 'E15.7   '           /                                                \n",
       "TUNIT12 = '        '           /                                                \n",
       "TDISP12 = 'G15.7   '           / %15.7g                                         \n",
       "                                                                                \n",
       "TTYPE13 = 'FILLCNT '           /                                                \n",
       "TBCOL13 =                  199 /                                                \n",
       "TFORM13 = 'I12     '           /                                                \n",
       "TUNIT13 = '        '           /                                                \n",
       "TDISP13 = 'I11     '           / %11d                                           \n",
       "                                                                                \n",
       "TTYPE14 = 'ERRCNT  '           /                                                \n",
       "TBCOL14 =                  212 /                                                \n",
       "TFORM14 = 'I12     '           /                                                \n",
       "TUNIT14 = '        '           /                                                \n",
       "TDISP14 = 'I11     '           / %11d                                           \n",
       "                                                                                \n",
       "TTYPE15 = 'FPKTTIME'           /                                                \n",
       "TBCOL15 =                  225 /                                                \n",
       "TFORM15 = 'D25.17  '           /                                                \n",
       "TUNIT15 = '        '           /                                                \n",
       "TDISP15 = 'G25.16  '           / %25.16g                                        \n",
       "                                                                                \n",
       "TTYPE16 = 'LPKTTIME'           /                                                \n",
       "TBCOL16 =                  251 /                                                \n",
       "TFORM16 = 'D25.17  '           /                                                \n",
       "TUNIT16 = '        '           /                                                \n",
       "TDISP16 = 'G25.16  '           / %25.16g                                        \n",
       "                                                                                \n",
       "TTYPE17 = 'CTYPE1  '           /                                                \n",
       "TBCOL17 =                  277 /                                                \n",
       "TFORM17 = 'A8      '           /                                                \n",
       "TUNIT17 = 'CHARACTER*8'        /                                                \n",
       "TDISP17 = 'A8      '           / %-8s                                           \n",
       "                                                                                \n",
       "TTYPE18 = 'CTYPE2  '           /                                                \n",
       "TBCOL18 =                  286 /                                                \n",
       "TFORM18 = 'A8      '           /                                                \n",
       "TUNIT18 = 'CHARACTER*8'        /                                                \n",
       "TDISP18 = 'A8      '           / %-8s                                           \n",
       "                                                                                \n",
       "TTYPE19 = 'DETECTOR'           /                                                \n",
       "TBCOL19 =                  295 /                                                \n",
       "TFORM19 = 'I12     '           /                                                \n",
       "TUNIT19 = '        '           /                                                \n",
       "TDISP19 = 'I11     '           / %11d                                           \n",
       "                                                                                \n",
       "TTYPE20 = 'DEZERO  '           /                                                \n",
       "TBCOL20 =                  308 /                                                \n",
       "TFORM20 = 'E15.7   '           /                                                \n",
       "TUNIT20 = '        '           /                                                \n",
       "TDISP20 = 'G15.7   '           / %15.7g                                         \n",
       "                                                                                \n",
       "TTYPE21 = 'BIASEVEN'           /                                                \n",
       "TBCOL21 =                  324 /                                                \n",
       "TFORM21 = 'E15.7   '           /                                                \n",
       "TUNIT21 = '        '           /                                                \n",
       "TDISP21 = 'G15.7   '           / %15.7g                                         \n",
       "                                                                                \n",
       "TTYPE22 = 'BIASODD '           /                                                \n",
       "TBCOL22 =                  340 /                                                \n",
       "TFORM22 = 'E15.7   '           /                                                \n",
       "TUNIT22 = '        '           /                                                \n",
       "TDISP22 = 'G15.7   '           / %15.7g                                         \n",
       "                                                                                \n",
       "TTYPE23 = 'GOODMIN '           /                                                \n",
       "TBCOL23 =                  356 /                                                \n",
       "TFORM23 = 'E15.7   '           /                                                \n",
       "TUNIT23 = '        '           /                                                \n",
       "TDISP23 = 'G15.7   '           / %15.7g                                         \n",
       "                                                                                \n",
       "TTYPE24 = 'GOODMAX '           /                                                \n",
       "TBCOL24 =                  372 /                                                \n",
       "TFORM24 = 'E15.7   '           /                                                \n",
       "TUNIT24 = '        '           /                                                \n",
       "TDISP24 = 'G15.7   '           / %15.7g                                         \n",
       "                                                                                \n",
       "TTYPE25 = 'DATAMEAN'           /                                                \n",
       "TBCOL25 =                  388 /                                                \n",
       "TFORM25 = 'E15.7   '           /                                                \n",
       "TUNIT25 = '        '           /                                                \n",
       "TDISP25 = 'G15.7   '           / %15.7g                                         \n",
       "                                                                                \n",
       "TTYPE26 = 'GPIXELS '           /                                                \n",
       "TBCOL26 =                  404 /                                                \n",
       "TFORM26 = 'I12     '           /                                                \n",
       "TUNIT26 = '        '           /                                                \n",
       "TDISP26 = 'I11     '           / %11d                                           \n",
       "                                                                                \n",
       "TTYPE27 = 'SOFTERRS'           /                                                \n",
       "TBCOL27 =                  417 /                                                \n",
       "TFORM27 = 'I12     '           /                                                \n",
       "TUNIT27 = '        '           /                                                \n",
       "TDISP27 = 'I11     '           / %11d                                           \n",
       "                                                                                \n",
       "TTYPE28 = 'CALIBDEF'           /                                                \n",
       "TBCOL28 =                  430 /                                                \n",
       "TFORM28 = 'I12     '           /                                                \n",
       "TUNIT28 = '        '           /                                                \n",
       "TDISP28 = 'I11     '           / %11d                                           \n",
       "                                                                                \n",
       "TTYPE29 = 'STATICD '           /                                                \n",
       "TBCOL29 =                  443 /                                                \n",
       "TFORM29 = 'I12     '           /                                                \n",
       "TUNIT29 = '        '           /                                                \n",
       "TDISP29 = 'I11     '           / %11d                                           \n",
       "                                                                                \n",
       "TTYPE30 = 'ATODSAT '           /                                                \n",
       "TBCOL30 =                  456 /                                                \n",
       "TFORM30 = 'I12     '           /                                                \n",
       "TUNIT30 = '        '           /                                                \n",
       "TDISP30 = 'I11     '           / %11d                                           \n",
       "                                                                                \n",
       "TTYPE31 = 'DATALOST'           /                                                \n",
       "TBCOL31 =                  469 /                                                \n",
       "TFORM31 = 'I12     '           /                                                \n",
       "TUNIT31 = '        '           /                                                \n",
       "TDISP31 = 'I11     '           / %11d                                           \n",
       "                                                                                \n",
       "TTYPE32 = 'BADPIXEL'           /                                                \n",
       "TBCOL32 =                  482 /                                                \n",
       "TFORM32 = 'I12     '           /                                                \n",
       "TUNIT32 = '        '           /                                                \n",
       "TDISP32 = 'I11     '           / %11d                                           \n",
       "                                                                                \n",
       "TTYPE33 = 'OVERLAP '           /                                                \n",
       "TBCOL33 =                  495 /                                                \n",
       "TFORM33 = 'I12     '           /                                                \n",
       "TUNIT33 = '        '           /                                                \n",
       "TDISP33 = 'I11     '           / %11d                                           \n",
       "                                                                                \n",
       "TTYPE34 = 'PHOTMODE'           /                                                \n",
       "TBCOL34 =                  508 /                                                \n",
       "TFORM34 = 'A48     '           /                                                \n",
       "TUNIT34 = 'CHARACTER*48'       /                                                \n",
       "TDISP34 = 'A48     '           / %-48s                                          \n",
       "                                                                                \n",
       "TTYPE35 = 'PHOTFLAM'           /                                                \n",
       "TBCOL35 =                  557 /                                                \n",
       "TFORM35 = 'E15.7   '           /                                                \n",
       "TUNIT35 = '        '           /                                                \n",
       "TDISP35 = 'G15.7   '           / %15.7g                                         \n",
       "                                                                                \n",
       "TTYPE36 = 'PHOTZPT '           /                                                \n",
       "TBCOL36 =                  573 /                                                \n",
       "TFORM36 = 'E15.7   '           /                                                \n",
       "TUNIT36 = '        '           /                                                \n",
       "TDISP36 = 'G15.7   '           / %15.7g                                         \n",
       "                                                                                \n",
       "TTYPE37 = 'PHOTPLAM'           /                                                \n",
       "TBCOL37 =                  589 /                                                \n",
       "TFORM37 = 'E15.7   '           /                                                \n",
       "TUNIT37 = '        '           /                                                \n",
       "TDISP37 = 'G15.7   '           / %15.7g                                         \n",
       "                                                                                \n",
       "TTYPE38 = 'PHOTBW  '           /                                                \n",
       "TBCOL38 =                  605 /                                                \n",
       "TFORM38 = 'E15.7   '           /                                                \n",
       "TUNIT38 = '        '           /                                                \n",
       "TDISP38 = 'G15.7   '           / %15.7g                                         \n",
       "                                                                                \n",
       "TTYPE39 = 'MEDIAN  '           /                                                \n",
       "TBCOL39 =                  621 /                                                \n",
       "TFORM39 = 'E15.7   '           /                                                \n",
       "TUNIT39 = '        '           /                                                \n",
       "TDISP39 = 'G15.7   '           / %15.7g                                         \n",
       "                                                                                \n",
       "TTYPE40 = 'MEDSHADO'           /                                                \n",
       "TBCOL40 =                  637 /                                                \n",
       "TFORM40 = 'E15.7   '           /                                                \n",
       "TUNIT40 = '        '           /                                                \n",
       "TDISP40 = 'G15.7   '           / %15.7g                                         \n",
       "                                                                                \n",
       "TTYPE41 = 'HISTWIDE'           /                                                \n",
       "TBCOL41 =                  653 /                                                \n",
       "TFORM41 = 'E15.7   '           /                                                \n",
       "TUNIT41 = '        '           /                                                \n",
       "TDISP41 = 'G15.7   '           / %15.7g                                         \n",
       "                                                                                \n",
       "TTYPE42 = 'SKEWNESS'           /                                                \n",
       "TBCOL42 =                  669 /                                                \n",
       "TFORM42 = 'E15.7   '           /                                                \n",
       "TUNIT42 = '        '           /                                                \n",
       "TDISP42 = 'G15.7   '           / %15.7g                                         \n",
       "                                                                                \n",
       "TTYPE43 = 'MEANC10 '           /                                                \n",
       "TBCOL43 =                  685 /                                                \n",
       "TFORM43 = 'E15.7   '           /                                                \n",
       "TUNIT43 = '        '           /                                                \n",
       "TDISP43 = 'G15.7   '           / %15.7g                                         \n",
       "                                                                                \n",
       "TTYPE44 = 'MEANC25 '           /                                                \n",
       "TBCOL44 =                  701 /                                                \n",
       "TFORM44 = 'E15.7   '           /                                                \n",
       "TUNIT44 = '        '           /                                                \n",
       "TDISP44 = 'G15.7   '           / %15.7g                                         \n",
       "                                                                                \n",
       "TTYPE45 = 'MEANC50 '           /                                                \n",
       "TBCOL45 =                  717 /                                                \n",
       "TFORM45 = 'E15.7   '           /                                                \n",
       "TUNIT45 = '        '           /                                                \n",
       "TDISP45 = 'G15.7   '           / %15.7g                                         \n",
       "                                                                                \n",
       "TTYPE46 = 'MEANC100'           /                                                \n",
       "TBCOL46 =                  733 /                                                \n",
       "TFORM46 = 'E15.7   '           /                                                \n",
       "TUNIT46 = '        '           /                                                \n",
       "TDISP46 = 'G15.7   '           / %15.7g                                         \n",
       "                                                                                \n",
       "TTYPE47 = 'MEANC200'           /                                                \n",
       "TBCOL47 =                  749 /                                                \n",
       "TFORM47 = 'E15.7   '           /                                                \n",
       "TUNIT47 = '        '           /                                                \n",
       "TDISP47 = 'G15.7   '           / %15.7g                                         \n",
       "                                                                                \n",
       "TTYPE48 = 'MEANC300'           /                                                \n",
       "TBCOL48 =                  765 /                                                \n",
       "TFORM48 = 'E15.7   '           /                                                \n",
       "TUNIT48 = '        '           /                                                \n",
       "TDISP48 = 'G15.7   '           / %15.7g                                         \n",
       "                                                                                \n",
       "TTYPE49 = 'BACKGRND'           /                                                \n",
       "TBCOL49 =                  781 /                                                \n",
       "TFORM49 = 'E15.7   '           /                                                \n",
       "TUNIT49 = '        '           /                                                \n",
       "TDISP49 = 'G15.7   '           / %15.7g                                         \n",
       "                                                                                \n",
       "CRVAL1  = 'right ascension of reference pixel (deg)' /                          \n",
       "CRVAL2  = 'declination of reference pixel (deg)' /                              \n",
       "CRPIX1  = 'x-coordinate of reference pixel' /                                   \n",
       "CRPIX2  = 'y-coordinate of reference pixel' /                                   \n",
       "CD1_1   = 'partial of the right ascension w.r.t. x' /                           \n",
       "CD1_2   = 'partial of the right ascension w.r.t. y' /                           \n",
       "CD2_1   = 'partial of the declination w.r.t. x' /                               \n",
       "CD2_2   = 'partial of the declination w.r.t. y' /                               \n",
       "DATAMIN = 'minimum value of the data' /                                         \n",
       "DATAMAX = 'maximum value of the data' /                                         \n",
       "MIR_REVR= 'is the image mirror reversed?' /                                     \n",
       "ORIENTAT= 'orientation of the image (deg)' /                                    \n",
       "FILLCNT = 'number of segments containing fill' /                                \n",
       "ERRCNT  = 'number of segments containing errors' /                              \n",
       "FPKTTIME= 'time of the first packet' /                                          \n",
       "LPKTTIME= 'time of the last packet' /                                           \n",
       "CTYPE1  = 'first coordinate type' /                                             \n",
       "CTYPE2  = 'second coordinate type' /                                            \n",
       "DETECTOR= 'CCD detector: PC 1, WFC 2-4' /                                       \n",
       "DEZERO  = 'Mean bias level from EED extended register' /                        \n",
       "BIASEVEN= 'Bias level for even-numbered columns' /                              \n",
       "BIASODD = 'Bias level for odd-numbered columns' /                               \n",
       "GOODMIN = 'minimum value of the \"good\" pixels' /                                \n",
       "GOODMAX = 'maximum value of the \"good\" pixels' /                                \n",
       "DATAMEAN= 'mean value of the \"good\" pixels' /                                   \n",
       "GPIXELS = 'number of \"good\" pixels               (DQF=0)' /                     \n",
       "SOFTERRS= 'number of \"soft error\" pixels         (DQF=1)' /                     \n",
       "CALIBDEF= 'number of \"calibration defect\" pixels (DQF=2)' /                     \n",
       "STATICD = 'number of \"static defect\" pixels      (DQF=4)' /                     \n",
       "ATODSAT = 'number of \"AtoD saturated\" pixels     (DQF=8)' /                     \n",
       "DATALOST= 'number of \"data lost\" pixels          (DQF=16)' /                    \n",
       "BADPIXEL= 'number of \"generic bad\" pixels        (DQF=32)' /                    \n",
       "OVERLAP = 'number of \"image overlap\" pixels      (DQF=64)' /                    \n",
       "PHOTMODE= 'Photometry mode'    /                                                \n",
       "PHOTFLAM= 'Inverse Sensitivity' /                                               \n",
       "PHOTZPT = 'Zero point'         /                                                \n",
       "PHOTPLAM= 'Pivot wavelength'   /                                                \n",
       "PHOTBW  = 'RMS bandwidth of the filter' /                                       \n",
       "MEDIAN  = 'middle data value when good qual pixels sorted' /                    \n",
       "MEDSHADO= 'median pixel value in shadow of pyramid edge' /                      \n",
       "HISTWIDE= 'width of the histogram' /                                            \n",
       "SKEWNESS= 'skewness of the histogram' /                                         \n",
       "MEANC10 = 'mean of a 10x10 region at center of chip' /                          \n",
       "MEANC25 = 'mean of a 25x25 region at center of chip' /                          \n",
       "MEANC50 = 'mean of a 50x50 region at center of chip' /                          \n",
       "MEANC100= 'mean of a 100x100 region at center of chip' /                        \n",
       "MEANC200= 'mean of a 200x200 region at center of chip' /                        \n",
       "MEANC300= 'mean of a 300x300 region at center of chip' /                        \n",
       "BACKGRND= 'estimated background level' /                                        "
      ]
     },
     "execution_count": 10,
     "metadata": {},
     "output_type": "execute_result"
    }
   ],
   "source": [
    "eagle_OIII[1].header"
   ]
  },
  {
   "cell_type": "markdown",
   "metadata": {},
   "source": [
    "There is a wealth of information within the header, from dates and authors to instruments and filters used.\n",
    "\n",
    "We can save the header in to a variable, which we do below in to the imaginatively named `header`."
   ]
  },
  {
   "cell_type": "code",
   "execution_count": 11,
   "metadata": {
    "collapsed": false
   },
   "outputs": [],
   "source": [
    "header = eagle_OIII[0].header"
   ]
  },
  {
   "cell_type": "markdown",
   "metadata": {},
   "source": [
    "Individual header values can be accessed by name"
   ]
  },
  {
   "cell_type": "code",
   "execution_count": 12,
   "metadata": {
    "collapsed": false
   },
   "outputs": [
    {
     "data": {
      "text/plain": [
       "'WFPC2'"
      ]
     },
     "execution_count": 12,
     "metadata": {},
     "output_type": "execute_result"
    }
   ],
   "source": [
    "header['INSTRUME']"
   ]
  },
  {
   "cell_type": "markdown",
   "metadata": {},
   "source": [
    "Header entries can also have associated comments that provide further information on a given entry. To access and modify these, use the comments function and pass the name of the value as the argument."
   ]
  },
  {
   "cell_type": "code",
   "execution_count": 13,
   "metadata": {
    "collapsed": false
   },
   "outputs": [
    {
     "data": {
      "text/plain": [
       "'instrument in use'"
      ]
     },
     "execution_count": 13,
     "metadata": {},
     "output_type": "execute_result"
    }
   ],
   "source": [
    "header.comments['INSTRUME']"
   ]
  },
  {
   "cell_type": "markdown",
   "metadata": {},
   "source": [
    "To add a new value to the header specify the new keyword and assign the desired value."
   ]
  },
  {
   "cell_type": "code",
   "execution_count": 14,
   "metadata": {
    "collapsed": true
   },
   "outputs": [],
   "source": [
    "header['MODIFIED'] = '6 Mar 2016'"
   ]
  },
  {
   "cell_type": "markdown",
   "metadata": {},
   "source": [
    "To remove a header value, use the `remove` function and pass the name of the value you wish to remove"
   ]
  },
  {
   "cell_type": "code",
   "execution_count": 15,
   "metadata": {
    "collapsed": false
   },
   "outputs": [],
   "source": [
    "header.remove('HISTORY')"
   ]
  },
  {
   "cell_type": "markdown",
   "metadata": {},
   "source": [
    "Remember that none of these changes will affect the original file until they are saved. We will cover this later in this notebook."
   ]
  },
  {
   "cell_type": "markdown",
   "metadata": {},
   "source": [
    "### Image Data\n"
   ]
  },
  {
   "cell_type": "markdown",
   "metadata": {},
   "source": [
    "Accessing image and table data is a simple as accessing the header. Just use the `data` function on an image HDU. This returns a numpy array, so we can use all of the typical numpy functions to investigate and manipulate the array."
   ]
  },
  {
   "cell_type": "code",
   "execution_count": 16,
   "metadata": {
    "collapsed": false
   },
   "outputs": [],
   "source": [
    "data = eagle_OIII[0].data"
   ]
  },
  {
   "cell_type": "code",
   "execution_count": 17,
   "metadata": {
    "collapsed": false
   },
   "outputs": [
    {
     "data": {
      "text/plain": [
       "(1600, 1600)"
      ]
     },
     "execution_count": 17,
     "metadata": {},
     "output_type": "execute_result"
    }
   ],
   "source": [
    "data.shape"
   ]
  },
  {
   "cell_type": "code",
   "execution_count": 18,
   "metadata": {
    "collapsed": false
   },
   "outputs": [
    {
     "data": {
      "text/plain": [
       "'float32'"
      ]
     },
     "execution_count": 18,
     "metadata": {},
     "output_type": "execute_result"
    }
   ],
   "source": [
    "data.dtype.name"
   ]
  },
  {
   "cell_type": "code",
   "execution_count": 19,
   "metadata": {
    "collapsed": false
   },
   "outputs": [
    {
     "name": "stdout",
     "output_type": "stream",
     "text": [
      "Min: -12.4393\n",
      "Max: 2925.87\n",
      "Mean: 6.23727\n",
      "Stdev: 15.7682\n"
     ]
    }
   ],
   "source": [
    "print 'Min:', np.min(data)\n",
    "print 'Max:', np.max(data)\n",
    "print 'Mean:', np.mean(data)\n",
    "print 'Stdev:', np.std(data)"
   ]
  },
  {
   "cell_type": "markdown",
   "metadata": {},
   "source": [
    "We can view the image with a simple call to `pyplot`"
   ]
  },
  {
   "cell_type": "code",
   "execution_count": 20,
   "metadata": {
    "collapsed": false
   },
   "outputs": [
    {
     "data": {
      "text/plain": [
       "<matplotlib.colorbar.Colorbar at 0x7fe083c53190>"
      ]
     },
     "execution_count": 20,
     "metadata": {},
     "output_type": "execute_result"
    },
    {
     "data": {
      "image/png": "[encoded data removed]",
      "text/plain": [
       "<matplotlib.figure.Figure at 0x7fe086754f50>"
      ]
     },
     "metadata": {},
     "output_type": "display_data"
    }
   ],
   "source": [
    "plt.imshow(data, cmap='gray')\n",
    "plt.colorbar()"
   ]
  },
  {
   "cell_type": "markdown",
   "metadata": {},
   "source": [
    "Not particularly interesting. We can plot a histogrm of the data to get a better idea of what is going on."
   ]
  },
  {
   "cell_type": "code",
   "execution_count": 21,
   "metadata": {
    "collapsed": false
   },
   "outputs": [
    {
     "data": {
      "image/png": "[encoded data removed]",
      "text/plain": [
       "<matplotlib.figure.Figure at 0x7fe083bd20d0>"
      ]
     },
     "metadata": {},
     "output_type": "display_data"
    }
   ],
   "source": [
    "histogram = plt.hist(data.flat, bins=1000)"
   ]
  },
  {
   "cell_type": "markdown",
   "metadata": {},
   "source": [
    "Almost all of the pixels have values below $10^{-15}$. In fact, there's a foreground star producing a pixel count far greater than the background image, so it doesn't appear on this linear scale. Let's adjust the scale so that we can see the features better"
   ]
  },
  {
   "cell_type": "code",
   "execution_count": 22,
   "metadata": {
    "collapsed": false
   },
   "outputs": [
    {
     "data": {
      "text/plain": [
       "<matplotlib.colorbar.Colorbar at 0x7fe082779350>"
      ]
     },
     "execution_count": 22,
     "metadata": {},
     "output_type": "execute_result"
    },
    {
     "data": {
      "image/png": "[encoded data removed]",
      "text/plain": [
       "<matplotlib.figure.Figure at 0x7fe083ae8f90>"
      ]
     },
     "metadata": {},
     "output_type": "display_data"
    }
   ],
   "source": [
    "from matplotlib.colors import LogNorm\n",
    "plt.imshow(data, cmap='gray', norm=LogNorm())\n",
    "plt.colorbar()"
   ]
  },
  {
   "cell_type": "markdown",
   "metadata": {},
   "source": [
    "We can now pick out the pillars of the Eagle nebula. We could also set a maximum pixel count limit using the vmax argument to limit the high values associated with the foreground star."
   ]
  },
  {
   "cell_type": "code",
   "execution_count": 23,
   "metadata": {
    "collapsed": false
   },
   "outputs": [
    {
     "data": {
      "text/plain": [
       "<matplotlib.colorbar.Colorbar at 0x7fe082276990>"
      ]
     },
     "execution_count": 23,
     "metadata": {},
     "output_type": "execute_result"
    },
    {
     "data": {
      "image/png": "[encoded data removed]",
      "text/plain": [
       "<matplotlib.figure.Figure at 0x7fe083c70690>"
      ]
     },
     "metadata": {},
     "output_type": "display_data"
    }
   ],
   "source": [
    "plt.imshow(data, cmap='gray', vmax=1e-17)\n",
    "plt.colorbar()"
   ]
  },
  {
   "cell_type": "markdown",
   "metadata": {},
   "source": [
    "### Tables"
   ]
  },
  {
   "cell_type": "markdown",
   "metadata": {},
   "source": [
    "One of the reasons that FITS is so popular with astronomers is that you can store image and tabular data together in a single file. This is useful for ensuring your research is reproducible; you're less likely to lose or separate your data if it's all in the same place.\n",
    "\n",
    "Astropy tables also include a host of useful functionality for handling astronomical data. If you're doing any 'heavy lifting' with your data (anything that takes a lot of computational power) it's probably worth taking it out of Astropy and using a more dedicated package, such as Pandas. However, for astronomy specific unit conversions and certain grouping operations, Astropy tables can be indispensable.\n",
    "\n",
    "Below we'll go through how to manipulate data in Astropy tables, and convert back and forth between them and Pandas dataframes.\n",
    "\n",
    "#### Reading Tables\n",
    "\n",
    "First, we'll take a look at the data we already have loaded. The second HDU was a table, so let's load this in to a dedicated variable."
   ]
  },
  {
   "cell_type": "code",
   "execution_count": 27,
   "metadata": {
    "collapsed": false
   },
   "outputs": [],
   "source": [
    "table = eagle_OIII[1]"
   ]
  },
  {
   "cell_type": "markdown",
   "metadata": {},
   "source": [
    "Use the `name` function to print the name of the table."
   ]
  },
  {
   "cell_type": "code",
   "execution_count": 28,
   "metadata": {
    "collapsed": false
   },
   "outputs": [
    {
     "data": {
      "text/plain": [
       "'502nmos_cvt.tab'"
      ]
     },
     "execution_count": 28,
     "metadata": {},
     "output_type": "execute_result"
    }
   ],
   "source": [
    "table.name"
   ]
  },
  {
   "cell_type": "markdown",
   "metadata": {},
   "source": [
    "To access the raw data, use the `data` function."
   ]
  },
  {
   "cell_type": "code",
   "execution_count": 31,
   "metadata": {
    "collapsed": false
   },
   "outputs": [
    {
     "data": {
      "text/plain": [
       "FITS_rec([ (274.71130937176997, -13.816000630103998, 386.5, 396.0, 1.8780131e-05, -2.0311931e-05, -2.0293581e-05, -1.8797111e-05, 0.0, 0.0, 'T', -131.9115, 0, 0, 49808.863704366304, 49808.863872190399, 'RA---TAN', 'DEC--TAN', 4, 311.2883, 311.32581, 311.25089, -1.921564, 4128.0581, 8.2847509, 559916, 0, 80081, 0, 5, 0, 0, 0, 'WFPC2,4,A2D7,F502N,,CAL', 3.026684e-16, -21.1, 5012.9102, 48.40781, 6.8006082, 3.6499541, 6.5017462, 0.01308636, 10.52821, 10.84973, 10.78265, 10.71748, 9.907546, 8.59161, 3.2858679)], \n",
       "      dtype=(numpy.record, {'names':['CRVAL1','CRVAL2','CRPIX1','CRPIX2','CD1_1','CD1_2','CD2_1','CD2_2','DATAMIN','DATAMAX','MIR_REVR','ORIENTAT','FILLCNT','ERRCNT','FPKTTIME','LPKTTIME','CTYPE1','CTYPE2','DETECTOR','DEZERO','BIASEVEN','BIASODD','GOODMIN','GOODMAX','DATAMEAN','GPIXELS','SOFTERRS','CALIBDEF','STATICD','ATODSAT','DATALOST','BADPIXEL','OVERLAP','PHOTMODE','PHOTFLAM','PHOTZPT','PHOTPLAM','PHOTBW','MEDIAN','MEDSHADO','HISTWIDE','SKEWNESS','MEANC10','MEANC25','MEANC50','MEANC100','MEANC200','MEANC300','BACKGRND'], 'formats':['S25','S25','S15','S15','S15','S15','S15','S15','S15','S15','S1','S15','S12','S12','S25','S25','S8','S8','S12','S15','S15','S15','S15','S15','S15','S12','S12','S12','S12','S12','S12','S12','S12','S48','S15','S15','S15','S15','S15','S15','S15','S15','S15','S15','S15','S15','S15','S15','S16'], 'offsets':[0,26,52,68,84,100,116,132,148,164,180,182,198,211,224,250,276,285,294,307,323,339,355,371,387,403,416,429,442,455,468,481,494,507,556,572,588,604,620,636,652,668,684,700,716,732,748,764,780], 'itemsize':796}))"
      ]
     },
     "execution_count": 31,
     "metadata": {},
     "output_type": "execute_result"
    }
   ],
   "source": [
    "table.data"
   ]
  },
  {
   "cell_type": "markdown",
   "metadata": {},
   "source": [
    "To view the first row of the table just use Python's typical zero-based indexing "
   ]
  },
  {
   "cell_type": "code",
   "execution_count": 36,
   "metadata": {
    "collapsed": false
   },
   "outputs": [
    {
     "data": {
      "text/plain": [
       "(274.71130937176997, -13.816000630103998, 386.5, 396.0, 1.8780131e-05, -2.0311931e-05, -2.0293581e-05, -1.8797111e-05, 0.0, 0.0, 'T', -131.9115, 0, 0, 49808.863704366304, 49808.863872190399, 'RA---TAN', 'DEC--TAN', 4, 311.2883, 311.32581, 311.25089, -1.921564, 4128.0581, 8.2847509, 559916, 0, 80081, 0, 5, 0, 0, 0, 'WFPC2,4,A2D7,F502N,,CAL', 3.026684e-16, -21.1, 5012.9102, 48.40781, 6.8006082, 3.6499541, 6.5017462, 0.01308636, 10.52821, 10.84973, 10.78265, 10.71748, 9.907546, 8.59161, 3.2858679)"
      ]
     },
     "execution_count": 36,
     "metadata": {},
     "output_type": "execute_result"
    }
   ],
   "source": [
    "table.data[0]"
   ]
  },
  {
   "cell_type": "markdown",
   "metadata": {},
   "source": [
    "To subset by columns (or fields, in `numpy` parlance), use the `field` function with a zero-based index. In our example we have only one row of data, so just the one value is returned."
   ]
  },
  {
   "cell_type": "code",
   "execution_count": 42,
   "metadata": {
    "collapsed": false
   },
   "outputs": [
    {
     "data": {
      "text/plain": [
       "array([ 274.71130937])"
      ]
     },
     "execution_count": 42,
     "metadata": {},
     "output_type": "execute_result"
    }
   ],
   "source": [
    "table.data.field(0)"
   ]
  },
  {
   "cell_type": "markdown",
   "metadata": {},
   "source": [
    "To see what columns are available, use the `columns` function"
   ]
  },
  {
   "cell_type": "code",
   "execution_count": 50,
   "metadata": {
    "collapsed": false
   },
   "outputs": [
    {
     "data": {
      "text/plain": [
       "ColDefs(\n",
       "    name = 'CRVAL1'; format = 'D25.17'; disp = 'G25.16'; start = 1\n",
       "    name = 'CRVAL2'; format = 'D25.17'; disp = 'G25.16'; start = 27\n",
       "    name = 'CRPIX1'; format = 'E15.7'; disp = 'G15.7'; start = 53\n",
       "    name = 'CRPIX2'; format = 'E15.7'; disp = 'G15.7'; start = 69\n",
       "    name = 'CD1_1'; format = 'E15.7'; disp = 'G15.7'; start = 85\n",
       "    name = 'CD1_2'; format = 'E15.7'; disp = 'G15.7'; start = 101\n",
       "    name = 'CD2_1'; format = 'E15.7'; disp = 'G15.7'; start = 117\n",
       "    name = 'CD2_2'; format = 'E15.7'; disp = 'G15.7'; start = 133\n",
       "    name = 'DATAMIN'; format = 'E15.7'; disp = 'G15.7'; start = 149\n",
       "    name = 'DATAMAX'; format = 'E15.7'; disp = 'G15.7'; start = 165\n",
       "    name = 'MIR_REVR'; format = 'A1'; unit = 'LOGICAL-'; start = 181\n",
       "    name = 'ORIENTAT'; format = 'E15.7'; disp = 'G15.7'; start = 183\n",
       "    name = 'FILLCNT'; format = 'I12'; disp = 'I11'; start = 199\n",
       "    name = 'ERRCNT'; format = 'I12'; disp = 'I11'; start = 212\n",
       "    name = 'FPKTTIME'; format = 'D25.17'; disp = 'G25.16'; start = 225\n",
       "    name = 'LPKTTIME'; format = 'D25.17'; disp = 'G25.16'; start = 251\n",
       "    name = 'CTYPE1'; format = 'A8'; unit = 'CHARACTER*8'; disp = 'A8'; start = 277\n",
       "    name = 'CTYPE2'; format = 'A8'; unit = 'CHARACTER*8'; disp = 'A8'; start = 286\n",
       "    name = 'DETECTOR'; format = 'I12'; disp = 'I11'; start = 295\n",
       "    name = 'DEZERO'; format = 'E15.7'; disp = 'G15.7'; start = 308\n",
       "    name = 'BIASEVEN'; format = 'E15.7'; disp = 'G15.7'; start = 324\n",
       "    name = 'BIASODD'; format = 'E15.7'; disp = 'G15.7'; start = 340\n",
       "    name = 'GOODMIN'; format = 'E15.7'; disp = 'G15.7'; start = 356\n",
       "    name = 'GOODMAX'; format = 'E15.7'; disp = 'G15.7'; start = 372\n",
       "    name = 'DATAMEAN'; format = 'E15.7'; disp = 'G15.7'; start = 388\n",
       "    name = 'GPIXELS'; format = 'I12'; disp = 'I11'; start = 404\n",
       "    name = 'SOFTERRS'; format = 'I12'; disp = 'I11'; start = 417\n",
       "    name = 'CALIBDEF'; format = 'I12'; disp = 'I11'; start = 430\n",
       "    name = 'STATICD'; format = 'I12'; disp = 'I11'; start = 443\n",
       "    name = 'ATODSAT'; format = 'I12'; disp = 'I11'; start = 456\n",
       "    name = 'DATALOST'; format = 'I12'; disp = 'I11'; start = 469\n",
       "    name = 'BADPIXEL'; format = 'I12'; disp = 'I11'; start = 482\n",
       "    name = 'OVERLAP'; format = 'I12'; disp = 'I11'; start = 495\n",
       "    name = 'PHOTMODE'; format = 'A48'; unit = 'CHARACTER*48'; disp = 'A48'; start = 508\n",
       "    name = 'PHOTFLAM'; format = 'E15.7'; disp = 'G15.7'; start = 557\n",
       "    name = 'PHOTZPT'; format = 'E15.7'; disp = 'G15.7'; start = 573\n",
       "    name = 'PHOTPLAM'; format = 'E15.7'; disp = 'G15.7'; start = 589\n",
       "    name = 'PHOTBW'; format = 'E15.7'; disp = 'G15.7'; start = 605\n",
       "    name = 'MEDIAN'; format = 'E15.7'; disp = 'G15.7'; start = 621\n",
       "    name = 'MEDSHADO'; format = 'E15.7'; disp = 'G15.7'; start = 637\n",
       "    name = 'HISTWIDE'; format = 'E15.7'; disp = 'G15.7'; start = 653\n",
       "    name = 'SKEWNESS'; format = 'E15.7'; disp = 'G15.7'; start = 669\n",
       "    name = 'MEANC10'; format = 'E15.7'; disp = 'G15.7'; start = 685\n",
       "    name = 'MEANC25'; format = 'E15.7'; disp = 'G15.7'; start = 701\n",
       "    name = 'MEANC50'; format = 'E15.7'; disp = 'G15.7'; start = 717\n",
       "    name = 'MEANC100'; format = 'E15.7'; disp = 'G15.7'; start = 733\n",
       "    name = 'MEANC200'; format = 'E15.7'; disp = 'G15.7'; start = 749\n",
       "    name = 'MEANC300'; format = 'E15.7'; disp = 'G15.7'; start = 765\n",
       "    name = 'BACKGRND'; format = 'E15.7'; disp = 'G15.7'; start = 781\n",
       ")"
      ]
     },
     "execution_count": 50,
     "metadata": {},
     "output_type": "execute_result"
    }
   ],
   "source": [
    "table.data.columns"
   ]
  },
  {
   "cell_type": "markdown",
   "metadata": {},
   "source": [
    "We can also print just the column names."
   ]
  },
  {
   "cell_type": "code",
   "execution_count": 51,
   "metadata": {
    "collapsed": false
   },
   "outputs": [
    {
     "data": {
      "text/plain": [
       "['CRVAL1',\n",
       " 'CRVAL2',\n",
       " 'CRPIX1',\n",
       " 'CRPIX2',\n",
       " 'CD1_1',\n",
       " 'CD1_2',\n",
       " 'CD2_1',\n",
       " 'CD2_2',\n",
       " 'DATAMIN',\n",
       " 'DATAMAX',\n",
       " 'MIR_REVR',\n",
       " 'ORIENTAT',\n",
       " 'FILLCNT',\n",
       " 'ERRCNT',\n",
       " 'FPKTTIME',\n",
       " 'LPKTTIME',\n",
       " 'CTYPE1',\n",
       " 'CTYPE2',\n",
       " 'DETECTOR',\n",
       " 'DEZERO',\n",
       " 'BIASEVEN',\n",
       " 'BIASODD',\n",
       " 'GOODMIN',\n",
       " 'GOODMAX',\n",
       " 'DATAMEAN',\n",
       " 'GPIXELS',\n",
       " 'SOFTERRS',\n",
       " 'CALIBDEF',\n",
       " 'STATICD',\n",
       " 'ATODSAT',\n",
       " 'DATALOST',\n",
       " 'BADPIXEL',\n",
       " 'OVERLAP',\n",
       " 'PHOTMODE',\n",
       " 'PHOTFLAM',\n",
       " 'PHOTZPT',\n",
       " 'PHOTPLAM',\n",
       " 'PHOTBW',\n",
       " 'MEDIAN',\n",
       " 'MEDSHADO',\n",
       " 'HISTWIDE',\n",
       " 'SKEWNESS',\n",
       " 'MEANC10',\n",
       " 'MEANC25',\n",
       " 'MEANC50',\n",
       " 'MEANC100',\n",
       " 'MEANC200',\n",
       " 'MEANC300',\n",
       " 'BACKGRND']"
      ]
     },
     "execution_count": 51,
     "metadata": {},
     "output_type": "execute_result"
    }
   ],
   "source": [
    "table.data.columns.names"
   ]
  },
  {
   "cell_type": "markdown",
   "metadata": {},
   "source": [
    "To select a particular field, subset by name."
   ]
  },
  {
   "cell_type": "code",
   "execution_count": 52,
   "metadata": {
    "collapsed": false
   },
   "outputs": [
    {
     "data": {
      "text/plain": [
       "array([ 3.28586793], dtype=float32)"
      ]
     },
     "execution_count": 52,
     "metadata": {},
     "output_type": "execute_result"
    }
   ],
   "source": [
    "table.data['BACKGRND']"
   ]
  },
  {
   "cell_type": "markdown",
   "metadata": {},
   "source": [
    "Each field is a numpy object, so all of the usual numpy functionality can be applied to manipulate, update or remove  data."
   ]
  },
  {
   "cell_type": "markdown",
   "metadata": {},
   "source": [
    "#### Creating Tables\n",
    "\n",
    "Tables are a bit trickier to create from scratch. This is down to the fact that tables cannot be the primary HDU, so we must create a primary HDU and append the table HDU to this before writing to a FITS file.\n",
    "\n",
    "Let's first set up some dummy data."
   ]
  },
  {
   "cell_type": "code",
   "execution_count": 72,
   "metadata": {
    "collapsed": true
   },
   "outputs": [],
   "source": [
    "arr1 = np.array(['source 1', 'source 2', 'source 3'])\n",
    "arr2 = np.array([1.2, 2.2, 3.1])"
   ]
  },
  {
   "cell_type": "markdown",
   "metadata": {},
   "source": [
    "We need to convert these in to columns using the `Column` function."
   ]
  },
  {
   "cell_type": "code",
   "execution_count": 73,
   "metadata": {
    "collapsed": true
   },
   "outputs": [],
   "source": [
    "col1 = fits.Column(name='target', format='20A', array=arr1)\n",
    "col2 = fits.Column(name='mag', format='E', array=arr2)"
   ]
  },
  {
   "cell_type": "markdown",
   "metadata": {},
   "source": [
    "We can then combine these in to a column definitions object, before finally wrapping them up in to a binary table HDU."
   ]
  },
  {
   "cell_type": "code",
   "execution_count": 76,
   "metadata": {
    "collapsed": true
   },
   "outputs": [],
   "source": [
    "cols = fits.ColDefs([col1,col2])\n",
    "tbhdu = fits.BinTableHDU.from_columns(cols)"
   ]
  },
  {
   "cell_type": "markdown",
   "metadata": {},
   "source": [
    "If we wish to add some more information to the primary HDU we need to initialise it first, and combine it with the table HDU in a HDU list."
   ]
  },
  {
   "cell_type": "code",
   "execution_count": 81,
   "metadata": {
    "collapsed": true
   },
   "outputs": [],
   "source": [
    "hdr = fits.Header()\n",
    "hdr['OBSERVER'] = ''\n",
    "hdr['MODIFIED'] = '4th April 2016'\n",
    "phdu = fits.PrimaryHDU(header=hdr)\n",
    "\n",
    "hdulist = fits.HDUList([phdu,tbhdu])"
   ]
  },
  {
   "cell_type": "markdown",
   "metadata": {},
   "source": [
    "### Writing to a FITS file"
   ]
  },
  {
   "cell_type": "markdown",
   "metadata": {},
   "source": [
    "All of the changes we have made so far to the header, image and tables have been made in memory. To save these changes to disk astropy provides a few different approaches.\n",
    "\n",
    "The most simple is to call the `writeto` function from a HDU directly, passing the directory and name of the file. This will write the HDU, including its header, to the specified file. When true, the `clobber` argument tells it to overwrite any existing file. "
   ]
  },
  {
   "cell_type": "code",
   "execution_count": 54,
   "metadata": {
    "collapsed": false
   },
   "outputs": [],
   "source": [
    "eagle_OIII[0].writeto('data/502nmos_update.fits',clobber=True)"
   ]
  },
  {
   "cell_type": "markdown",
   "metadata": {},
   "source": [
    "An alternative method of writing changes to disk is to open the file with the `update` mode. Then, when the `flush` method is called on the HDU it will write all changes made to the HDU since it was opened. The `close` method will do the same, but will also close the file to any further changes.\n",
    "\n",
    "Take care when opening files using this approach, as you can quite easily modify your original FITS file unwittingly and lose your original data."
   ]
  },
  {
   "cell_type": "code",
   "execution_count": 56,
   "metadata": {
    "collapsed": true
   },
   "outputs": [],
   "source": [
    "eagle_OIII = fits.open('data/502nmos.fits', mode=\"update\")\n",
    "eagle_OIII.flush()\n",
    "eagle_OIII.close()"
   ]
  },
  {
   "cell_type": "markdown",
   "metadata": {},
   "source": [
    "#### Writing a new FITS file\n",
    "\n",
    "To write data to a completely new FITS file we first need to create a HDU. The `PrimaryHDU` function wraps a given array in to a new HDU object, that we can then add to a HDUlist object. We can then save this to disk using `writeto` as above.\n",
    "\n",
    "Below, we create a new array of values, convert this to a HDU, add it to a HDUlist, then save to disk."
   ]
  },
  {
   "cell_type": "code",
   "execution_count": 59,
   "metadata": {
    "collapsed": false
   },
   "outputs": [],
   "source": [
    "n = np.arange(100)\n",
    "\n",
    "hdu = fits.PrimaryHDU(n)\n",
    "hdulist = fits.HDUList([hdu])\n",
    "hdulist.writeto('data/demo.fits', clobber=True)"
   ]
  },
  {
   "cell_type": "markdown",
   "metadata": {},
   "source": [
    "We could call `writeto` directly from the HDU, but it's good practice to first add it to a HDU list first in case you wish to join many HDU's together in future."
   ]
  }
 ],
 "metadata": {
  "kernelspec": {
   "display_name": "Python 2",
   "language": "python",
   "name": "python2"
  },
  "language_info": {
   "codemirror_mode": {
    "name": "ipython",
    "version": 2
   },
   "file_extension": ".py",
   "mimetype": "text/x-python",
   "name": "python",
   "nbconvert_exporter": "python",
   "pygments_lexer": "ipython2",
   "version": "2.7.11"
  }
 },
 "nbformat": 4,
 "nbformat_minor": 0
}
