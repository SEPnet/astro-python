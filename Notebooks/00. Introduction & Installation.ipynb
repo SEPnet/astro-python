{
 "cells": [
  {
   "cell_type": "markdown",
   "metadata": {},
   "source": [
    "Welcome to Astro in Python! If you're reading this on Github, you can skip this notebook and go checkout out the other notebooks in the series. If you've downloaded the notebooks to work on interactively, you may need to install some of the modules used in the course. \n",
    "\n",
    "If you have installed the Anaconda distribution, all of the base scientific modules you will need will already be installed for you. This is the recommended installation approach. If you don't wish to use Anaconda, follow the instructions [here](https://www.scipy.org/install.html) to install the full SciPy stack by hand.\n",
    "\n",
    "Once you have the base modules installed, follow the instructions below for each additional module you require. Each notebook should clearly indicate which modules are required at the start."
   ]
  },
  {
   "cell_type": "markdown",
   "metadata": {},
   "source": [
    "## Astropy\n",
    "\n",
    "Astropy is included by default in the Anaconda distribution. For manual installation instructions, see [here](http://www.astropy.org/)."
   ]
  },
  {
   "cell_type": "markdown",
   "metadata": {
    "collapsed": true
   },
   "source": [
    "## Aplpy\n",
    "\n",
    "Aplpy requires additional software to unlock all of its functionality (see [here](https://aplpy.github.io/install.html) for a full list of dependencies). In particular, to be abe to use some of the functions in the *Plotting* notebook you will need [montage](http://montage.ipac.caltech.edu/). The latest version is available [here](https://github.com/Caltech-IPAC/Montage). To install it, clone this repository locally, and run `make` in the root directory. If you're running windows, this make command may not work, in which case you'll need [Cygwin](https://www.cygwin.com/).\n",
    "\n",
    "Aplpy can then be installed with pip:\n",
    "\n",
    "`pip install aplpy`\n",
    "\n",
    "If you hit any problems, please visit the [package website](https://aplpy.github.io/install.html) for more detailed installation instructions relevant to your operating system."
   ]
  }
 ],
 "metadata": {
  "kernelspec": {
   "display_name": "Python 2",
   "language": "python",
   "name": "python2"
  },
  "language_info": {
   "codemirror_mode": {
    "name": "ipython",
    "version": 2
   },
   "file_extension": ".py",
   "mimetype": "text/x-python",
   "name": "python",
   "nbconvert_exporter": "python",
   "pygments_lexer": "ipython2",
   "version": "2.7.11"
  }
 },
 "nbformat": 4,
 "nbformat_minor": 0
}
